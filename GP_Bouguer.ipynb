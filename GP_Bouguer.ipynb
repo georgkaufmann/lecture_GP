{
 "cells": [
  {
   "cell_type": "markdown",
   "metadata": {},
   "source": [
    "<table>\n",
    "<tr><td><img style=\"height: 150px;\" src=\"images/geo_hydro1.jpg\"></td>\n",
    "<td bgcolor=\"#FFFFFF\">\n",
    "    <p style=\"font-size: xx-large; font-weight: 900; line-height: 100%\">AG Dynamics of the Earth</p>\n",
    "    <p style=\"font-size: large; color: rgba(0,0,0,0.5);\">Jupyter notebooks</p>\n",
    "    <p style=\"font-size: large; color: rgba(0,0,0,0.5);\">Georg Kaufmann</p>\n",
    "    </td>\n",
    "</tr>\n",
    "</table>"
   ]
  },
  {
   "cell_type": "markdown",
   "metadata": {},
   "source": [
    "# Geophysikalisches Praktikum: Bouguer gravity\n",
    "\n",
    "## Reading and plotting Bouguer gravity data\n",
    "----\n",
    "*Georg Kaufmann,\n",
    "Geophysics Section,\n",
    "Institute of Geological Sciences,\n",
    "Freie Universität Berlin,\n",
    "Germany*\n",
    "\n"
   ]
  },
  {
   "cell_type": "markdown",
   "metadata": {},
   "source": [
    "In this notebook, we will discuss and then read data files (topography, Bouguer gravity) \n",
    "saved in the `geodyn5` format.\n",
    "<img src=\"images/BlaueKuppe_2Dboug.png\" style=\"height:10cm\">\n",
    "\n",
    "First, we load some `python` libraries."
   ]
  },
  {
   "cell_type": "code",
   "execution_count": 2,
   "metadata": {},
   "outputs": [],
   "source": [
    "import numpy as np\n",
    "import matplotlib.pyplot as plt\n",
    "import matplotlib.cm as cm\n",
    "import scipy.interpolate\n",
    "import GP_modules\n",
    "GP_modules.change_fontsize()"
   ]
  },
  {
   "cell_type": "markdown",
   "metadata": {},
   "source": [
    "----\n",
    "## Reading a geodyn5 file\n",
    "\n",
    "Our first script will be used to **read** a dataset of digital elevations, \n",
    "which has been saved in the geodyn5 format. Below, the first lines from the\n",
    "file `2Dm_GP2022_DTM.xy` are shown:"
   ]
  },
  {
   "cell_type": "markdown",
   "metadata": {},
   "source": [
    "The first lines (starting with an exclamation mark) are **meta-data** of the dataset,\n",
    "describing its content, technial details such as the source, the coordinate system:\n",
    "- !PROJECT - project name\n",
    "- !DATA:        - name of dtaa set\n",
    "- !OPERATOR: - operator names\n",
    "- !DATE:   - date of data set (creation)\n",
    "- !COORDINATES: - coordinates\n",
    "- !NOTES:       - note \n",
    "\n",
    "This list is not exclusive, you can assign your own meta-data, as long as they start with an exclamation mark.\n",
    "\n",
    "The last two rows of meta-data describe the structure of the following data set, the `geodyn5` dataset.\n",
    "The column entries for the dtaa set (mandatory) are:\n",
    "- datetime - datetime string for data point [yyyy-mm-dd-hh:mm:ss]\n",
    "- easting  - easting coordinate [m]\n",
    "- northing - northing coordinate [m]\n",
    "- elev     - elevation [m]\n",
    "- depth    - sensor offset to ground [m]\n",
    "- field1   - field value1 [m,mGal,nT,...]\n",
    "- field2   - field value2 [m,mGal,nT,...]"
   ]
  },
  {
   "cell_type": "markdown",
   "metadata": {},
   "source": [
    "We will read this data file with the following script below.\n",
    "\n",
    "We open the data file (in the data directiry) as `infile1`, read all content into the\n",
    "variable `lines`, then loop over all lines stored in `lines`and sort for meta-data and data.\n",
    "\n",
    "- meta-data: are printed as info\n",
    "- data: each data line is splitted into parts and saved as `python` list for\n",
    "the lists datetime, easting, northing, elev, offset, field1, field2.\n"
   ]
  },
  {
   "cell_type": "code",
   "execution_count": null,
   "metadata": {},
   "outputs": [],
   "source": [
    "# read topography file\n",
    "# read Bouguer data files"
   ]
  },
  {
   "cell_type": "code",
   "execution_count": null,
   "metadata": {},
   "outputs": [],
   "source": [
    "# create topo and boug 1D data fields (easting, northing, elev/boug)"
   ]
  },
  {
   "cell_type": "markdown",
   "metadata": {},
   "source": [
    "----\n",
    "## Plotting topography\n",
    "\n",
    "We first need to create a regular grid from irregular data:\n",
    "- Define spacing `dx` and `dy`.\n",
    "- Calculate number of points in east ans north direction, `nx`, `ny`\n",
    "- create `x` and `y` arrays\n",
    "- Re-mesh these two array to 2D arrays"
   ]
  },
  {
   "cell_type": "code",
   "execution_count": null,
   "metadata": {},
   "outputs": [],
   "source": [
    "# convert 1D fields to 2D mesh data (topography)"
   ]
  },
  {
   "cell_type": "code",
   "execution_count": null,
   "metadata": {},
   "outputs": [],
   "source": [
    "# convert 1D fields to 2D mesh data (Bouguer gravity data)"
   ]
  },
  {
   "cell_type": "code",
   "execution_count": null,
   "metadata": {},
   "outputs": [],
   "source": [
    "# plot topography and Bouguer gravity"
   ]
  },
  {
   "cell_type": "markdown",
   "metadata": {},
   "source": [
    "... done"
   ]
  }
 ],
 "metadata": {
  "kernelspec": {
   "display_name": "Python 3 (ipykernel)",
   "language": "python",
   "name": "python3"
  },
  "language_info": {
   "codemirror_mode": {
    "name": "ipython",
    "version": 3
   },
   "file_extension": ".py",
   "mimetype": "text/x-python",
   "name": "python",
   "nbconvert_exporter": "python",
   "pygments_lexer": "ipython3",
   "version": "3.11.3"
  }
 },
 "nbformat": 4,
 "nbformat_minor": 4
}
