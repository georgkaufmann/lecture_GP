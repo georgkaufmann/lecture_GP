{
 "cells": [
  {
   "cell_type": "markdown",
   "metadata": {},
   "source": [
    "<table>\n",
    "<tr><td><img style=\"height: 150px;\" src=\"images/geo_hydro1.jpg\"></td>\n",
    "<td bgcolor=\"#FFFFFF\">\n",
    "    <p style=\"font-size: xx-large; font-weight: 900; line-height: 100%\">AG Dynamics of the Earth</p>\n",
    "    <p style=\"font-size: large; color: rgba(0,0,0,0.5);\">Jupyter notebooks</p>\n",
    "    <p style=\"font-size: large; color: rgba(0,0,0,0.5);\">Georg Kaufmann</p>\n",
    "    </td>\n",
    "</tr>\n",
    "</table>"
   ]
  },
  {
   "cell_type": "markdown",
   "metadata": {},
   "source": [
    "# Geophysikalisches Praktikum: `geodyn5` format\n",
    "\n",
    "## Elevation data\n",
    "----\n",
    "*Georg Kaufmann,\n",
    "Geophysics Section,\n",
    "Institute of Geological Sciences,\n",
    "Freie Universität Berlin,\n",
    "Germany*"
   ]
  },
  {
   "cell_type": "code",
   "execution_count": 13,
   "metadata": {
    "tags": []
   },
   "outputs": [],
   "source": [
    "import numpy as np\n",
    "import libGP"
   ]
  },
  {
   "cell_type": "markdown",
   "metadata": {},
   "source": [
    "In this notebook, we reformat the DEM data for elevation from the Landesamt to our common `geodyn5`\n",
    "format and plot the data.\n",
    "\n",
    "----\n",
    "## Reading DEM\n",
    "\n",
    "The downloaded Lidar data for the FU Geocampus Berlin (`DGM1_388_5908.xyz`) looks like:"
   ]
  },
  {
   "cell_type": "raw",
   "metadata": {},
   "source": [
    "388000.500 5808000.500 43.59\n",
    "388001.500 5808000.500 43.59\n",
    "388002.500 5808000.500 43.57\n",
    "388003.500 5808000.500 43.57\n",
    "388004.500 5808000.500 43.60\n",
    "388005.500 5808000.500 43.60\n",
    "388006.500 5808000.500 43.63\n",
    "388007.500 5808000.500 43.60\n",
    "388008.500 5808000.500 43.57\n",
    "388009.500 5808000.500 43.67"
   ]
  },
  {
   "cell_type": "markdown",
   "metadata": {},
   "source": [
    "This simple ascii file contains triple of\n",
    "- easting [m]\n",
    "- northing [m]\n",
    "- elevation [m]\n",
    "without any meta data.\n",
    "\n",
    "**Note:** This file contains more than 4 mill entries, therefore we have extracted the relevant elevation data\n",
    "for the FU Geocampus, and stored them in the same format as `data/FUGeocampus/FUGeocampus_topo.xyz`.\n",
    "\n",
    "We read this data file with `np.loadtxt` and create data array `data`:"
   ]
  },
  {
   "cell_type": "code",
   "execution_count": 26,
   "metadata": {
    "tags": []
   },
   "outputs": [
    {
     "name": "stdout",
     "output_type": "stream",
     "text": [
      "(160801, 3)\n"
     ]
    }
   ],
   "source": [
    "data = np.loadtxt('data/FUGeocampus/FUGeocampus_topo.xyz',skiprows=6)\n",
    "print(data.shape)"
   ]
  },
  {
   "cell_type": "markdown",
   "metadata": {},
   "source": [
    "----\n",
    "## Reformat to `geodyn5` format\n",
    "\n",
    "The setup of the `geodyn5` format is:\n",
    "\n",
    "- The first lines (starting with an exclamation mark) are **meta-data** of the dataset,\n",
    "describing its content, technial details such as the source, the coordinate system:\n",
    "    - !PROJECT - project name\n",
    "    - !DATA:        - name of dtaa set\n",
    "    - !OPERATOR: - operator names\n",
    "    - !DATE:   - date of data set (creation)\n",
    "    - !COORDINATES: - coordinates\n",
    "    - !NOTES:       - note \n",
    "\n",
    "This list is not exclusive, you can assign your own meta-data, as long as they start with an exclamation mark.\n",
    "\n",
    "- The last two rows of meta-data describe the structure of the following data set, the `geodyn5` dataset.\n",
    "The column entries for the dtaa set (mandatory) are:\n",
    "    - datetime - datetime string for data point [yyyy-mm-dd-hh:mm:ss]\n",
    "    - easting  - easting coordinate [m]\n",
    "    - northing - northing coordinate [m]\n",
    "    - elev     - elevation [m]\n",
    "    - depth    - sensor offset to ground [m]\n",
    "    - field1   - field value1 [m,mGal,nT,...]\n",
    "    - field2   - field value2 [m,mGal,nT,...]\n",
    "\n",
    "- Then, the data lines start ...\n",
    "\n",
    "To reformat these triples to the `geodyn5` format, we first create meta data as a string:"
   ]
  },
  {
   "cell_type": "code",
   "execution_count": 27,
   "metadata": {
    "tags": []
   },
   "outputs": [
    {
     "name": "stdout",
     "output_type": "stream",
     "text": [
      "!PROJECT:     GP2024\n",
      "!LOCATION:    FU Geocampus, Berlin\n",
      "!DATA:        Lidar\n",
      "!OPERATOR:\n",
      "!DATE:\n",
      "!COORDINATES: UTM 33T\n",
      "!NOTES:       1m resolution\n",
      "!VALUE:     datetime    easting    northing    elev    depth        field1        field2\n",
      "!UNIT:                      [m]         [m]     [m]      [m]           [x]          [xx]\n"
     ]
    }
   ],
   "source": [
    "metaData = ''\n",
    "metaData += \"!PROJECT:     GP2024\\n\"\n",
    "metaData += \"!LOCATION:    FU Geocampus, Berlin\\n\"\n",
    "metaData += \"!DATA:        Lidar\\n\"\n",
    "metaData += \"!OPERATOR:\\n\"\n",
    "metaData += \"!DATE:\\n\"\n",
    "metaData += \"!COORDINATES: UTM 33T\\n\"\n",
    "metaData += \"!NOTES:       1m resolution\\n\"\n",
    "metaData += \"!VALUE:     datetime    easting    northing    elev    depth        field1        field2\\n\"\n",
    "metaData += \"!UNIT:                      [m]         [m]     [m]      [m]           [x]          [xx]\"\n",
    "\n",
    "print(metaData)"
   ]
  },
  {
   "cell_type": "markdown",
   "metadata": {},
   "source": [
    "Next, we define a datetime string, then open the `geodyn5`data file, and save metadata and data to this file:"
   ]
  },
  {
   "cell_type": "code",
   "execution_count": 28,
   "metadata": {
    "tags": []
   },
   "outputs": [],
   "source": [
    "datetime = \"2024-06-07-12:00:00\"\n",
    "elevFile = \"data/FUGeocampus/2Dm_GP2024_DTM.xy\"\n",
    "f = open(elevFile,'w')\n",
    "print(metaData,file=f)\n",
    "# loop over elevation data\n",
    "for i in range(data.shape[0]):\n",
    "    print(\"%20s %12.2f %12.2f %8.2f %8.2f %8.2f %8.2f\" % (datetime,data[i][0],data[i][1],data[i][2],0,0,0),file=f)\n",
    "f.close()"
   ]
  },
  {
   "cell_type": "markdown",
   "metadata": {},
   "source": [
    "This are the first lines of the newly created file:"
   ]
  },
  {
   "cell_type": "code",
   "execution_count": 34,
   "metadata": {
    "tags": []
   },
   "outputs": [
    {
     "name": "stdout",
     "output_type": "stream",
     "text": [
      "!PROJECT:     GP2024\n",
      "!LOCATION:    FU Geocampus, Berlin\n",
      "!DATA:        Lidar\n",
      "!OPERATOR:\n",
      "!DATE:\n",
      "!COORDINATES: UTM 33T\n",
      "!NOTES:       1m resolution\n",
      "!VALUE:     datetime    easting    northing    elev    depth        field1        field2\n",
      "!UNIT:                      [m]         [m]     [m]      [m]           [x]          [xx]\n",
      " 2024-06-07-12:00:00    388200.00   5809900.00    45.11     0.00     0.00     0.00\n",
      " 2024-06-07-12:00:00    388201.00   5809900.00    45.02     0.00     0.00     0.00\n",
      " 2024-06-07-12:00:00    388202.00   5809900.00    45.01     0.00     0.00     0.00\n",
      " 2024-06-07-12:00:00    388203.00   5809900.00    45.00     0.00     0.00     0.00\n",
      " 2024-06-07-12:00:00    388204.00   5809900.00    44.99     0.00     0.00     0.00\n"
     ]
    }
   ],
   "source": [
    "!head -14 \"data/FUGeocampus/2Dm_GP2024_DTM.xy\""
   ]
  },
  {
   "cell_type": "markdown",
   "metadata": {},
   "source": [
    "... done"
   ]
  }
 ],
 "metadata": {
  "kernelspec": {
   "display_name": "Python 3 (ipykernel)",
   "language": "python",
   "name": "python3"
  },
  "language_info": {
   "codemirror_mode": {
    "name": "ipython",
    "version": 3
   },
   "file_extension": ".py",
   "mimetype": "text/x-python",
   "name": "python",
   "nbconvert_exporter": "python",
   "pygments_lexer": "ipython3",
   "version": "3.11.3"
  }
 },
 "nbformat": 4,
 "nbformat_minor": 4
}
