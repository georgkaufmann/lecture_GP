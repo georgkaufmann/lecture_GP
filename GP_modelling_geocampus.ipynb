{
 "cells": [
  {
   "cell_type": "markdown",
   "metadata": {},
   "source": [
    "<table>\n",
    "<tr><td><img style=\"height: 150px;\" src=\"images/geo_hydro1.jpg\"></td>\n",
    "<td bgcolor=\"#FFFFFF\">\n",
    "    <p style=\"font-size: xx-large; font-weight: 900; line-height: 100%\">AG Dynamics of the Earth</p>\n",
    "    <p style=\"font-size: large; color: rgba(0,0,0,0.5);\">Jupyter notebooks</p>\n",
    "    <p style=\"font-size: large; color: rgba(0,0,0,0.5);\">Georg Kaufmann</p>\n",
    "    </td>\n",
    "</tr>\n",
    "</table>"
   ]
  },
  {
   "cell_type": "markdown",
   "metadata": {},
   "source": [
    "# Geophysikalisches Praktikum: Modelling\n",
    "\n",
    "## Geocampus Lankwitz\n",
    "----\n",
    "*Georg Kaufmann,\n",
    "Geophysics Section,\n",
    "Institute of Geological Sciences,\n",
    "Freie Universität Berlin,\n",
    "Germany*\n",
    "\n"
   ]
  },
  {
   "cell_type": "markdown",
   "metadata": {},
   "source": [
    "In this notebook, we want to move on to make a model for the GeoCampus.\n",
    "\n",
    "There are three tasks we need to do:\n",
    "\n",
    "1. Get an elevation data file and possibly some information about sub-surface structure.\n",
    "2. Create a forward model for gravity and magnetics.\n",
    "3. Run a forward model\n",
    "\n",
    "<img style=\"height: 10cm;\" src=\"images/Campus_tunnel.jpg\">\n",
    "\n",
    "*This part needs to be filled with life, we will try it live...*\n"
   ]
  },
  {
   "cell_type": "code",
   "execution_count": 2,
   "metadata": {},
   "outputs": [],
   "source": [
    "import numpy as np\n",
    "import matplotlib.pyplot as plt\n",
    "import matplotlib.cm as cm\n",
    "import GP_modules\n",
    "import lib_modelling\n",
    "GP_modules.change_fontsize()"
   ]
  },
  {
   "cell_type": "markdown",
   "metadata": {},
   "source": [
    "----\n",
    "## Topography\n",
    "\n",
    "Read elevation data from file, extract sub-region, and shift elevation to total offset with\n",
    "value `ZTOP`. Load also both tunnel and rigole geometries."
   ]
  },
  {
   "cell_type": "code",
   "execution_count": 1,
   "metadata": {},
   "outputs": [],
   "source": [
    "# read elevation data\n",
    "# read structure data"
   ]
  },
  {
   "cell_type": "code",
   "execution_count": 2,
   "metadata": {},
   "outputs": [],
   "source": [
    "# define function to plot elevation model"
   ]
  },
  {
   "cell_type": "markdown",
   "metadata": {},
   "source": [
    "----\n",
    "## Gravity and magnetic anomalies\n",
    "\n",
    "Function to sum up all elements over the elevation grid."
   ]
  },
  {
   "cell_type": "code",
   "execution_count": 3,
   "metadata": {},
   "outputs": [],
   "source": [
    "# define function for gravity and magnetics forward model"
   ]
  },
  {
   "cell_type": "markdown",
   "metadata": {},
   "source": [
    "Define gravity and magnetic elements in real coordinates and calculate forward model."
   ]
  },
  {
   "cell_type": "code",
   "execution_count": 4,
   "metadata": {},
   "outputs": [],
   "source": [
    "# define test structure, calculate forward signal"
   ]
  },
  {
   "cell_type": "code",
   "execution_count": 5,
   "metadata": {},
   "outputs": [],
   "source": [
    "# define function to plot forward models"
   ]
  },
  {
   "cell_type": "markdown",
   "metadata": {},
   "source": [
    "----\n",
    "## Model for GeoCampus Lankwitz ...\n",
    "\n",
    "- Define start end end coordinates, `xcorner`, `ycorner`. \n",
    "- Discretise in 1m intervals, `dr=1`.\n",
    "- Use Polar coordinates along linear structure:\n",
    "$$\n",
    "\\begin{array}{rcl}\n",
    "x &=& r \\cos \\phi \\\\\n",
    "y &=& r \\sin \\phi\n",
    "\\end{array}\n",
    "$$\n",
    "and\n",
    "$$\n",
    "\\begin{array}{rcl}\n",
    "r &=& \\sqrt{x^2 + y^2} \\\\\n",
    "\\tan \\phi &=& \\frac{y}{x}\n",
    "\\end{array}\n",
    "$$\n",
    "- With the assumption of boxes (squares) with 1m size length,\n",
    "$V_b=a b c$, \n",
    "the corresponding volume of the sphere is $V_s = \\frac{4}{3}\\pi r^3$:\n",
    "$$\n",
    "r^3 = \\frac{3 a b c}{4 \\pi}\n",
    "$$\n",
    "thus $r \\simeq 0.62$ m."
   ]
  },
  {
   "cell_type": "code",
   "execution_count": 6,
   "metadata": {},
   "outputs": [],
   "source": [
    "# real model, definition"
   ]
  },
  {
   "cell_type": "code",
   "execution_count": 8,
   "metadata": {},
   "outputs": [],
   "source": [
    "# calculate real model"
   ]
  },
  {
   "cell_type": "code",
   "execution_count": 9,
   "metadata": {},
   "outputs": [],
   "source": [
    "# plot real model"
   ]
  },
  {
   "cell_type": "markdown",
   "metadata": {},
   "source": [
    "... done"
   ]
  }
 ],
 "metadata": {
  "kernelspec": {
   "display_name": "Python 3 (ipykernel)",
   "language": "python",
   "name": "python3"
  },
  "language_info": {
   "codemirror_mode": {
    "name": "ipython",
    "version": 3
   },
   "file_extension": ".py",
   "mimetype": "text/x-python",
   "name": "python",
   "nbconvert_exporter": "python",
   "pygments_lexer": "ipython3",
   "version": "3.10.8"
  }
 },
 "nbformat": 4,
 "nbformat_minor": 1
}
