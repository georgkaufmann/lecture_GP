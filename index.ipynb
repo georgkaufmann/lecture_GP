{
 "cells": [
  {
   "cell_type": "markdown",
   "metadata": {},
   "source": [
    "<table>\n",
    "<tr><td><img style=\"height: 150px;\" src=\"images/geo_hydro1.jpg\"></td>\n",
    "<td bgcolor=\"#FFFFFF\">\n",
    "    <p style=\"font-size: xx-large; font-weight: 900; line-height: 100%\">AG Dynamics of the Earth</p>\n",
    "    <p style=\"font-size: large; color: rgba(0,0,0,0.5);\">Jupyter notebooks</p>\n",
    "    <p style=\"font-size: large; color: rgba(0,0,0,0.5);\">Georg Kaufmann</p>\n",
    "    </td>\n",
    "</tr>\n",
    "</table>"
   ]
  },
  {
   "cell_type": "markdown",
   "metadata": {},
   "source": [
    "# Geophysikalisches Praktikum\n",
    "----\n",
    "*Georg Kaufmann,\n",
    "Geophysics Section,\n",
    "Institute of Geological Sciences,\n",
    "Freie Universität Berlin,\n",
    "Germany*\n",
    "\n",
    "**Additional jupyter notebooks for lecture**\n",
    "\n",
    "We want to prepare our field campaign:\n",
    "\n",
    "1. Preparation of campaign\n",
    "2. Estimation of modelling results\n",
    "\n",
    "Lectures:\n",
    "\n",
    "- Lecture 1: GIS\n",
    "    - [GIS](GP_qgis.ipynb)\n",
    "- Lecture 2: Topography\n",
    "    - [Topography](GP_modelling_topography.ipynb)\n",
    "- Lecture 3: Modelling\n",
    "    - [Gravity of simple sphere](GP_modelling_gravsphere.ipynb)\n",
    "    - [Magnetics of simple sphere](GP_modelling_magsphere.ipynb)\n",
    "    - [GeoCampus Lankwitz](GP_modelling_geocampus.ipynb)"
   ]
  }
 ],
 "metadata": {
  "kernelspec": {
   "display_name": "Python 3",
   "language": "python",
   "name": "python3"
  },
  "language_info": {
   "codemirror_mode": {
    "name": "ipython",
    "version": 3
   },
   "file_extension": ".py",
   "mimetype": "text/x-python",
   "name": "python",
   "nbconvert_exporter": "python",
   "pygments_lexer": "ipython3",
   "version": "3.7.3"
  }
 },
 "nbformat": 4,
 "nbformat_minor": 1
}
