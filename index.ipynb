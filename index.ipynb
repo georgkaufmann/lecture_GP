{
 "cells": [
  {
   "cell_type": "markdown",
   "metadata": {},
   "source": [
    "<table>\n",
    "<tr><td><img style=\"height: 150px;\" src=\"images/geo_hydro1.jpg\"></td>\n",
    "<td bgcolor=\"#FFFFFF\">\n",
    "    <p style=\"font-size: xx-large; font-weight: 900; line-height: 100%\">AG Dynamics of the Earth</p>\n",
    "    <p style=\"font-size: large; color: rgba(0,0,0,0.5);\">Jupyter notebooks</p>\n",
    "    <p style=\"font-size: large; color: rgba(0,0,0,0.5);\">Georg Kaufmann</p>\n",
    "    </td>\n",
    "</tr>\n",
    "</table>"
   ]
  },
  {
   "cell_type": "markdown",
   "metadata": {},
   "source": [
    "# Geophysikalisches Praktikum\n",
    "----\n",
    "*Georg Kaufmann,\n",
    "Geophysics Section,\n",
    "Institute of Geological Sciences,\n",
    "Freie Universität Berlin,\n",
    "Germany*\n",
    "\n",
    "- Lecture 1: Before fieldwork\n",
    "    - [Introduction]\n",
    "    - [Getting data]\n",
    "    - [GIS](GP1_qgis.ipynb)\n",
    "    - [geodyn5 format](GP1_geodyn5.ipynb)\n",
    "    - [Topography](GP1_topography.ipynb)\n",
    "    \n",
    "- Lecture 2: During fieldwork\n",
    "    - [Introduction]\n",
    "    - [Read elevation data](GP2_readTopography.ipynb)\n",
    "    - [Create coordinates]\n",
    "        - [ERT](GP2_createERTCoordElevation.ipynb)\n",
    "        - [GPR](GP2_createGPRCoordElevation.ipynb)\n",
    "        - [Gravity](GP2_createGravityCoordElevation.ipynb)\n",
    "    - [Plot processed data](GP2_plotData.ipynb)\n",
    "\n",
    "- Lecture 3: After fieldwork\n",
    "    - [Introduction]\n",
    "    - Plotting\n",
    "        - [Bouguer anomaly](GP3_Bouguer.ipynb)\n",
    "        - [Total-field anomaly](GP3_Totalfield.ipynb)\n",
    "        - [ERT profiles](GP3_ert.ipynb)\n",
    "        - [GPR profiles]\n",
    "\n",
    "- Lecture 4: Modelling\n",
    "    - [Gravity of simple sphere](GP4_modelling_gravsphere.ipynb)\n",
    "    - [Magnetics of simple sphere](GP4_modelling_magsphere.ipynb)\n",
    "    - [GeoCampus Lankwitz](GP4_modelling_geocampus.ipynb)\n",
    "    \n",
    "- Libraries: Using libGP\n",
    "    - [libGP](GP5_libraries.ipynb)"
   ]
  },
  {
   "cell_type": "markdown",
   "metadata": {},
   "source": [
    "----"
   ]
  }
 ],
 "metadata": {
  "kernelspec": {
   "display_name": "Python 3 (ipykernel)",
   "language": "python",
   "name": "python3"
  },
  "language_info": {
   "codemirror_mode": {
    "name": "ipython",
    "version": 3
   },
   "file_extension": ".py",
   "mimetype": "text/x-python",
   "name": "python",
   "nbconvert_exporter": "python",
   "pygments_lexer": "ipython3",
   "version": "3.11.3"
  }
 },
 "nbformat": 4,
 "nbformat_minor": 4
}
