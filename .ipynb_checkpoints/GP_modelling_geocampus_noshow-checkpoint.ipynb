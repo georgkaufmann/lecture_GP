{
 "cells": [
  {
   "cell_type": "markdown",
   "metadata": {},
   "source": [
    "<table>\n",
    "<tr><td><img style=\"height: 150px;\" src=\"images/geo_hydro1.jpg\"></td>\n",
    "<td bgcolor=\"#FFFFFF\">\n",
    "    <p style=\"font-size: xx-large; font-weight: 900; line-height: 100%\">AG Dynamics of the Earth</p>\n",
    "    <p style=\"font-size: large; color: rgba(0,0,0,0.5);\">Jupyter notebooks</p>\n",
    "    <p style=\"font-size: large; color: rgba(0,0,0,0.5);\">Georg Kaufmann</p>\n",
    "    </td>\n",
    "</tr>\n",
    "</table>"
   ]
  },
  {
   "cell_type": "markdown",
   "metadata": {},
   "source": [
    "# Geophysikalisches Praktikum: Modelling\n",
    "\n",
    "## Geocampus Lankwitz\n",
    "----\n",
    "*Georg Kaufmann,\n",
    "Geophysics Section,\n",
    "Institute of Geological Sciences,\n",
    "Freie Universität Berlin,\n",
    "Germany*\n",
    "\n"
   ]
  },
  {
   "cell_type": "markdown",
   "metadata": {},
   "source": [
    "In this notebook, we want to move on to make a model for the GeoCampus.\n",
    "\n",
    "There are three tasks we need to do:\n",
    "\n",
    "1. Get an elevation data file and possibly some information about sub-surface structure.\n",
    "2. Create a forward model for gravity and magnetics.\n",
    "3. Run a forward model\n",
    "\n",
    "<img style=\"height: 10cm;\" src=\"images/Campus_tunnel.jpg\">\n",
    "\n",
    "\n",
    "*This part needs to be filled with life, we will try it live...*\n"
   ]
  },
  {
   "cell_type": "code",
   "execution_count": null,
   "metadata": {},
   "outputs": [],
   "source": [
    "import numpy as np\n",
    "import matplotlib.pyplot as plt\n",
    "import matplotlib.cm as cm\n",
    "import GP_modules\n",
    "import lib_modelling\n",
    "GP_modules.change_fontsize()"
   ]
  },
  {
   "cell_type": "code",
   "execution_count": null,
   "metadata": {},
   "outputs": [],
   "source": [
    "# check available color maps\n",
    "print(cm.get_cmap)\n",
    "#print(cm.cmap_d.keys())"
   ]
  },
  {
   "cell_type": "markdown",
   "metadata": {},
   "source": [
    "----\n",
    "## Topography\n",
    "\n",
    "Read elevation data from file, extract sub-region, and shift elevation to total offset with\n",
    "value `ZTOP`. Load also both tunnel and rigole geometries."
   ]
  },
  {
   "cell_type": "code",
   "execution_count": null,
   "metadata": {},
   "outputs": [],
   "source": [
    "def GP_read_topo():\n",
    "    \"\"\"\n",
    "    function reads topography data\n",
    "    inpath     - path to topo and structure files\n",
    "    topofile   - filename for DEM data\n",
    "    rigolefile - filename for strcture file\n",
    "    tunnelfile - filename for strcture file\n",
    "    returns\n",
    "    X,Y,Z - coordinates\n",
    "    TOPO  - elevation data\n",
    "    ZTOP  - offset height\n",
    "    \"\"\"\n",
    "    inpath='data/'\n",
    "    topofile='Campus.xyz'\n",
    "    TOPO=np.loadtxt(fname=inpath+topofile, dtype='float',skiprows=6)\n",
    "    ZTOP=1000.\n",
    "    # read tunnel and rigole outlines\n",
    "    rigolefile='Rigole.xy'\n",
    "    rigole=np.loadtxt(fname=inpath+rigolefile,skiprows=1)\n",
    "    tunnelfile='Tunnel.xy'\n",
    "    tunnel=np.loadtxt(fname=inpath+tunnelfile,skiprows=1)\n",
    "\n",
    "    X = np.array([])\n",
    "    Y = np.array([])\n",
    "    Z = np.array([])\n",
    "    for i in range(TOPO.shape[0]):\n",
    "        if (TOPO[i,0]>388300 and TOPO[i,0]<388450):\n",
    "            if (TOPO[i,1]>5809720 and TOPO[i,1]<5809870):\n",
    "                X = np.append(X,TOPO[i,0])\n",
    "                Y = np.append(Y,TOPO[i,1])\n",
    "                Z = np.append(Z,TOPO[i,2])\n",
    "    Z    = ZTOP - Z\n",
    "    return TOPO,X,Y,Z,ZTOP,rigole,tunnel"
   ]
  },
  {
   "cell_type": "code",
   "execution_count": null,
   "metadata": {},
   "outputs": [],
   "source": [
    "TOPO,X,Y,Z,ZTOP,rigole,tunnel = GP_read_topo()\n",
    "\n",
    "print ( \"%s%8.0f %8.0f\" % ('easting min/max:   ',TOPO[:,0].min(),TOPO[:,0].max()))\n",
    "print ( \"%s%8.0f %8.0f\" % ('northing min/max:  ',TOPO[:,1].min(),TOPO[:,1].max()))\n",
    "print ( \"%s%8.2f %8.2f\" % ('elevation min/max: ',TOPO[:,2].min(),TOPO[:,2].max()))\n",
    "print ( \"%s%8.2f %8.2f\" % ('elevation min/max: ',ZTOP-Z.min(),ZTOP-Z.max()))\n",
    "print(TOPO.shape)\n",
    "print(Z.shape)"
   ]
  },
  {
   "cell_type": "code",
   "execution_count": null,
   "metadata": {},
   "outputs": [],
   "source": [
    "def GP_plot_topo(X,Y,Z,ZTOP,rigole,tunnel):\n",
    "    \"\"\"\n",
    "    function plots topography and structures on top\n",
    "    X,Y,Z  - coordinates\n",
    "    ZTOP   - offset height\n",
    "    rigole - coordinates from rigole\n",
    "    tunnel - coordinates from tunnel\n",
    "    returns\n",
    "    (nothing, plots figure)\n",
    "    \"\"\"\n",
    "    # plot elevation data and structure\n",
    "    fig,ax1 = plt.subplots(1,1,figsize=(7.0, 8.0))\n",
    "\n",
    "    ax1.set_xlabel('Easting [m]')\n",
    "    ax1.set_ylabel('Northing [m]')\n",
    "    ax1.set_xticks([388350,388400,388450])\n",
    "    ax1.set_yticks([5809750,5809800,5809850])\n",
    "    ax1.ticklabel_format(useOffset=False)\n",
    "    # plot topo\n",
    "    im=ax1.tricontourf(X, Y, ZTOP-Z, 15,cmap = cm.get_cmap('gray'))\n",
    "    #ax1.tricontour(X, Y, ZTOP-Z, 15, cmap = cm.get_cmap('rainbow'),linewidths=0.5)\n",
    "    fig.colorbar(im,ax=ax1,label='Elevation [m]',orientation=\"horizontal\",shrink=0.9)\n",
    "    # plot tunnel and rigole\n",
    "    ax1.plot(rigole[:,0],rigole[:,1],linestyle=':',linewidth=1,color='white')\n",
    "    ax1.plot(tunnel[:,0],tunnel[:,1],linestyle=':',linewidth=1,color='white')\n",
    "\n",
    "    plt.tight_layout()"
   ]
  },
  {
   "cell_type": "code",
   "execution_count": null,
   "metadata": {},
   "outputs": [],
   "source": [
    "GP_plot_topo(X,Y,Z,ZTOP,rigole,tunnel)"
   ]
  },
  {
   "cell_type": "markdown",
   "metadata": {},
   "source": [
    "----\n",
    "## Gravity and magnetic anomalies\n",
    "\n",
    "Function to sum up all elements over the elevation grid."
   ]
  },
  {
   "cell_type": "code",
   "execution_count": null,
   "metadata": {},
   "outputs": [],
   "source": [
    "def GP_signal(X,Y,Z,XP,YP,ZP,ZTOP,RP,RHOP,MAG):\n",
    "    \"\"\"\n",
    "    function calculates forward model for gravity and magnetics\n",
    "    based on input coordinates\n",
    "    and forward operators (spheres) from lecture\n",
    "    X,Y,Z    - DEM model (easting,northing,elevation wrt plane ZTOP)\n",
    "    XP,YP,ZP - center coordinate of model boxes\n",
    "    RP       - radius of model boxes\n",
    "    RHOP,MAG - density and magnetisation of model boxes\n",
    "    returns\n",
    "    boug     - Bouguer gravity signal from model boxes\n",
    "    total    - Total field signal from model boxes\n",
    "    \"\"\"\n",
    "    boug  = np.zeros(X.shape[0])\n",
    "    total = np.zeros(X.shape[0])\n",
    "    for i in range(X.shape[0]):\n",
    "        for k in range(len(XP)):\n",
    "            gx,gy,gz = lib_modelling.grav_sphere(xo=X[i],yo=Y[i],zo=Z[i],\n",
    "                                   xp=XP[k],yp=YP[k],zp=ZTOP-ZP[k],radius=RP[k],rho=RHOP[k])\n",
    "            boug[i] = boug[i] + gz\n",
    "            bx,by,bz,t = lib_modelling.mag_sphere(xo=X[i],yo=Y[i],zo=Z[i],\n",
    "                                    xp=XP[k],yp=YP[k],zp=ZTOP-ZP[k],radius=RP[k],\n",
    "                            earthincl=67.,earthdecl=0.,mag=MAG[k],incl=90.,decl=0.,theta=0.)\n",
    "            total[i] = total[i] + t\n",
    "    return boug,total"
   ]
  },
  {
   "cell_type": "markdown",
   "metadata": {},
   "source": [
    "Define gravity and magnetic elements in real coordinates and calculate forward model."
   ]
  },
  {
   "cell_type": "code",
   "execution_count": null,
   "metadata": {},
   "outputs": [],
   "source": [
    "XP = [388355.5]\n",
    "YP = [5809821]\n",
    "ZP=[41.]\n",
    "RP =[0.62]\n",
    "RHOP =[-2000]\n",
    "MAG = [0.4]\n",
    "\n",
    "boug,total = GP_signal(X,Y,Z,XP,YP,ZP,ZTOP,RP,RHOP,MAG)\n",
    "print(boug.shape)\n",
    "print(boug.min(),boug.max())\n",
    "print(total.min(),total.max())"
   ]
  },
  {
   "cell_type": "code",
   "execution_count": null,
   "metadata": {},
   "outputs": [],
   "source": [
    "def GP_plot(X,Y,Z,ZTOP,boug,total):\n",
    "    \"\"\"\n",
    "    functions plots gravity and magnetic anomalies on top of topography\n",
    "    X,Y,Z    - DEM model (easting,northing,elevation wrt plane ZTOP)\n",
    "    ZTOP     - offset height\n",
    "    boug     - Bouguer gravity signal from model boxes\n",
    "    total    - Total field signal from model boxes\n",
    "    returns\n",
    "    (nothing, plots figure)\n",
    "    \"\"\"\n",
    "    lim_boug = -0.001\n",
    "    lim_mag  = 1.\n",
    "    fig,ax = plt.subplots(1,2,figsize=(13.0, 8.0))\n",
    "\n",
    "    ax[0].set_xlabel('Easting [m]')\n",
    "    ax[0].set_ylabel('Northing [m]')\n",
    "    ax[0].set_xticks([388350,388400,388450])\n",
    "    ax[0].set_yticks([5809750,5809800,5809850])\n",
    "    ax[0].ticklabel_format(useOffset=False)\n",
    "    # plot topo\n",
    "    im=ax[0].tricontourf(X, Y, ZTOP-Z, 15,cmap = cm.get_cmap('gray'))\n",
    "    # plot tunnel and rigole\n",
    "    ax[0].plot(rigole[:,0],rigole[:,1],linestyle=':',linewidth=1,color='white')\n",
    "    ax[0].plot(tunnel[:,0],tunnel[:,1],linestyle=':',linewidth=1,color='white')\n",
    "    im=ax[0].tricontourf(X[boug<lim_boug],Y[boug<lim_boug],1000*boug[boug<lim_boug], 15,\n",
    "                         cmap = cm.get_cmap('rainbow'),alpha=0.50)\n",
    "    #ax[0].tricontour(X[boug<lim_boug],Y[boug<lim_boug],boug[boug<lim_boug],\n",
    "    #                 cmap = cm.get_cmap('gray'),linewidths=0.5)\n",
    "    fig.colorbar(im,ax=ax[0],label='Bouguer anomaly [$\\mu$Gal]',orientation=\"horizontal\",shrink=0.9)\n",
    "\n",
    "    ax[1].set_xlabel('Easting [m]')\n",
    "    #ax[1].set_ylabel('Northing [m]')\n",
    "    ax[1].set_xticks([388350,388400,388450])\n",
    "    ax[1].set_yticks([5809750,5809800,5809850])\n",
    "    ax[1].ticklabel_format(useOffset=False)\n",
    "    im=ax[1].tricontourf(X, Y, ZTOP-Z, 15,cmap = cm.get_cmap('gray'))\n",
    "    # plot tunnel and rigole\n",
    "    ax[1].plot(rigole[:,0],rigole[:,1],linestyle=':',linewidth=1,color='white')\n",
    "    ax[1].plot(tunnel[:,0],tunnel[:,1],linestyle=':',linewidth=1,color='white')\n",
    "    im=ax[1].tricontourf(X[total>lim_mag],Y[total>lim_mag],total[total>lim_mag], 15,\n",
    "                         cmap = cm.get_cmap('rainbow'),alpha=0.40)\n",
    "    #ax[1].tricontour(X[total>lim_mag],Y[total>lim_mag],total[total>lim_mag], \n",
    "    #                cmap = plt.get_cmap('rainbow'),linewidths=0.5)\n",
    "    fig.colorbar(im,ax=ax[1],label='Total-field anomaly [nT]',orientation=\"horizontal\",shrink=0.9)\n",
    "\n",
    "    plt.tight_layout()"
   ]
  },
  {
   "cell_type": "code",
   "execution_count": null,
   "metadata": {},
   "outputs": [],
   "source": [
    "GP_plot(X,Y,Z,ZTOP,boug,total)"
   ]
  },
  {
   "cell_type": "markdown",
   "metadata": {},
   "source": [
    "----\n",
    "## Model for GeoCampus Lankwitz ...\n",
    "\n",
    "- Define start end end coordinates, `xcorner`, `ycorner`. \n",
    "- Discretise in 1m intervals, `dr=1`.\n",
    "- Use Polar coordinates along linear structure:\n",
    "$$\n",
    "\\begin{array}{rcl}\n",
    "x &=& r \\cos \\phi \\\\\n",
    "y &=& r \\sin \\phi\n",
    "\\end{array}\n",
    "$$\n",
    "and\n",
    "$$\n",
    "\\begin{array}{rcl}\n",
    "r &=& \\sqrt{x^2 + y^2} \\\\\n",
    "\\tan \\phi &=& \\frac{y}{x}\n",
    "\\end{array}\n",
    "$$\n",
    "- With the assumption of boxes (squares) with 1m size length,\n",
    "$V_b=a b c$, \n",
    "the corresponding volume of the sphere is $V_s = \\frac{4}{3}\\pi r^3$:\n",
    "$$\n",
    "r^3 = \\frac{3 a b c}{4 \\pi}\n",
    "$$\n",
    "thus $r \\simeq 0.62$ m."
   ]
  },
  {
   "cell_type": "code",
   "execution_count": null,
   "metadata": {},
   "outputs": [],
   "source": [
    "xcorner = [388355.5,388374]\n",
    "ycorner = [5809821.5,5809745]\n",
    "\n",
    "dist = np.sqrt((ycorner[1]-ycorner[0])**2+(xcorner[1]-xcorner[0])**2)\n",
    "phi  = np.arctan2(ycorner[1]-ycorner[0],xcorner[1]-xcorner[0])\n",
    "print(\"dist: \",dist,\" direction: \",phi*180/np.pi)\n",
    "\n",
    "dr = 1.\n",
    "r  = np.arange(0,dist,dr)\n",
    "print(\"Number of points: \",len(r))\n",
    "XP = np.zeros(len(r))\n",
    "YP = np.zeros(len(r))\n",
    "\n",
    "ZP   = np.ones(len(r))*41.\n",
    "RP   = np.ones(len(r))*0.62\n",
    "RHOP = np.ones(len(r))*-2000\n",
    "MAG  = np.ones(len(r))*0.4\n",
    "\n",
    "XP[0]=xcorner[0]\n",
    "YP[0]=ycorner[0]\n",
    "for i in range(1,len(r)):\n",
    "    XP[i] = XP[i-1]+dr*np.cos(phi) \n",
    "    YP[i] = YP[i-1]+dr*np.sin(phi) \n",
    "#print(XP,YP)"
   ]
  },
  {
   "cell_type": "code",
   "execution_count": null,
   "metadata": {},
   "outputs": [],
   "source": [
    "fig,ax1 = plt.subplots(1,1,figsize=(7.0, 8.0))\n",
    "\n",
    "ax1.set_xlabel('Easting [m]')\n",
    "ax1.set_ylabel('Northing [m]')\n",
    "ax1.set_xticks([388350,388400,388450])\n",
    "ax1.set_yticks([5809750,5809800,5809850])\n",
    "ax1.ticklabel_format(useOffset=False)\n",
    "# plot topo\n",
    "im=ax1.tricontourf(X, Y, ZTOP-Z, 15,cmap = cm.get_cmap('gray'))\n",
    "#ax1.tricontour(X, Y, ZTOP-Z, cmap = cm.get_cmap('rainbow'),linewidths=0.5)\n",
    "fig.colorbar(im,ax=ax1,label='Elevation [m]',orientation=\"horizontal\",shrink=0.9)\n",
    "# plot tunnel and rigole\n",
    "ax1.plot(XP,YP,linestyle='none',marker='o',markersize=1.0,color='white')\n",
    "\n",
    "plt.tight_layout()"
   ]
  },
  {
   "cell_type": "code",
   "execution_count": null,
   "metadata": {},
   "outputs": [],
   "source": [
    "boug,total = GP_signal(X,Y,Z,XP,YP,ZP,ZTOP,RP,RHOP,MAG)\n",
    "GP_plot(X,Y,Z,ZTOP,boug,total)"
   ]
  },
  {
   "cell_type": "markdown",
   "metadata": {},
   "source": [
    "... done"
   ]
  }
 ],
 "metadata": {
  "kernelspec": {
   "display_name": "Python 3",
   "language": "python",
   "name": "python3"
  },
  "language_info": {
   "codemirror_mode": {
    "name": "ipython",
    "version": 3
   },
   "file_extension": ".py",
   "mimetype": "text/x-python",
   "name": "python",
   "nbconvert_exporter": "python",
   "pygments_lexer": "ipython3",
   "version": "3.7.3"
  }
 },
 "nbformat": 4,
 "nbformat_minor": 1
}
