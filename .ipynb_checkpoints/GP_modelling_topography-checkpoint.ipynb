{
 "cells": [
  {
   "cell_type": "markdown",
   "metadata": {},
   "source": [
    "<table>\n",
    "<tr><td><img style=\"height: 150px;\" src=\"images/geo_hydro1.jpg\"></td>\n",
    "<td bgcolor=\"#FFFFFF\">\n",
    "    <p style=\"font-size: xx-large; font-weight: 900; line-height: 100%\">AG Dynamics of the Earth</p>\n",
    "    <p style=\"font-size: large; color: rgba(0,0,0,0.5);\">Jupyter notebooks</p>\n",
    "    <p style=\"font-size: large; color: rgba(0,0,0,0.5);\">Georg Kaufmann</p>\n",
    "    </td>\n",
    "</tr>\n",
    "</table>"
   ]
  },
  {
   "cell_type": "markdown",
   "metadata": {},
   "source": [
    "# Geophysikalisches Praktikum: Digital elevation model\n",
    "\n",
    "## DEM model from LIDAR data\n",
    "----\n",
    "*Georg Kaufmann,\n",
    "Geophysics Section,\n",
    "Institute of Geological Sciences,\n",
    "Freie Universität Berlin,\n",
    "Germany*\n",
    "\n"
   ]
  },
  {
   "cell_type": "markdown",
   "metadata": {},
   "source": [
    "In this notebook, we will read and plot a **digital elevation model** (DEM) derived from\n",
    "Lidar data from [Berlin](https://fbinter.stadt-berlin.de/fb/index.jsp?loginkey=zoomStart&mapId=k_dgm1@senstadt&bbox=378400,5816319,382550,5819191).\n",
    "<img src=\"images/Campus_3Dtopo.png\" style=\"height:5cm\">\n",
    "\n",
    "----\n",
    "## Reading and writing files\n",
    "\n",
    "Our first script will be used to **read** a dataset of digital elevations. The dataset\n",
    "are Lidar-derived digital elevation data from our FU GeoCampus, given in the UTM\n",
    "coordinate system (Zome UTM 33T).\n",
    "\n",
    "The first lines (starting with an exclamation mark) are **meta-data** of the dataset,\n",
    "describing its content, technial details such as the source, the coordinate system,\n",
    "and the content of the different columns:"
   ]
  },
  {
   "cell_type": "raw",
   "metadata": {},
   "source": [
    "!---------------------------------------\n",
    "! Lidar data from Geocampus FU Berlin\n",
    "! (Source: Berlin)\n",
    "! Coordinate system UTM 33T\n",
    "! easting [m] northing [m] elevation [m]\n",
    "!---------------------------------------\n",
    "   388200.00   5809850.00   45.57 \n",
    "   388201.00   5809850.00   45.56 \n",
    "   388202.00   5809850.00   45.56 \n",
    "   388203.00   5809850.00   45.55"
   ]
  },
  {
   "cell_type": "markdown",
   "metadata": {},
   "source": [
    "Then, the data follow in simple ascii notation as three columns, the two coordinates (easting and northing) and the elevation value. The different entries are separated by blanks.\n",
    "\n",
    "We will read this data file with the following script below. Here, we first load the numpy package and redefine its name to a shorter abbreviation, np. We then define the file Campus.xyz, our dataset, as string infile1.\n",
    "\n",
    "The file is loaded with the `loadtxt` module of `numpy`, with arguments fname for the file, dtype for the data type (a float in our case), and skiprows=6 to tell the module to read over our first 6 lines of meta-data. Them, a couple of lines are written to the screen to check, what was read in. Try `print (np.loadtxt.__doc__)` to figure out all possible arguments, or use the numpy-user guide!\n",
    "\n",
    "Before we initiate the python-code, we need to tell the jupyter notebook, that figures created with matplotlib should be printed in this notebook:"
   ]
  },
  {
   "cell_type": "code",
   "execution_count": null,
   "metadata": {},
   "outputs": [],
   "source": [
    "import numpy as np\n",
    "import matplotlib.pyplot as plt\n",
    "import matplotlib.cm as cm\n",
    "import scipy.interpolate"
   ]
  },
  {
   "cell_type": "markdown",
   "metadata": {},
   "source": [
    "## Load DEM data\n",
    "Now we define the script to read the dataset:"
   ]
  },
  {
   "cell_type": "code",
   "execution_count": null,
   "metadata": {},
   "outputs": [],
   "source": [
    "\"\"\"\n",
    "=====================================\n",
    "Example to learn reading ascii data\n",
    "and write formatted ascii output\n",
    "(c) Georg Kaufmann 2017\n",
    "=====================================\n",
    "\"\"\"\n",
    "#-----------------------------------------------------------------------\n",
    "# read data into field\n",
    "#-----------------------------------------------------------------------\n",
    "inpath='data/'\n",
    "infile1='Campus.xyz'\n",
    "topo=np.loadtxt(fname=inpath+infile1, dtype='float',skiprows=6)\n",
    "print ('=============================')\n",
    "print ('%s %s' % ('Reading file: ',infile1))\n",
    "print ('%s data type: %s\\n%s data dimensions: %s' % \\\n",
    "      ('topo: ',type(topo),'topo: ',topo.shape))\n",
    "#-----------------------------------------------------------------------\n",
    "# calculate statistical properties\n",
    "#-----------------------------------------------------------------------\n",
    "east_min = np.min(topo[:,0])\n",
    "east_max = np.max(topo[:,0])\n",
    "north_min = np.min(topo[:,1])\n",
    "north_max = np.max(topo[:,1])\n",
    "elev_min = np.min(topo[:,2])\n",
    "elev_max = np.max(topo[:,2])\n",
    "print ( \"%s%8.0f %8.0f\" % ('easting min/max:   ',east_min,east_max))\n",
    "print ( \"%s%8.0f %8.0f\" % ('northing min/max:  ',north_min,north_max))\n",
    "print ( \"%s%8.2f %8.2f\" % ('elevation min/max: ',elev_min,elev_max))"
   ]
  },
  {
   "cell_type": "markdown",
   "metadata": {},
   "source": [
    "## Plot DEM data\n",
    "Next, we plot the data as 2D plot:"
   ]
  },
  {
   "cell_type": "code",
   "execution_count": null,
   "metadata": {},
   "outputs": [],
   "source": [
    "\"\"\"\n",
    "=====================================\n",
    "Example to learn reading ascii data\n",
    "and plot data in multiple figures\n",
    "(c) Georg Kaufmann 2017\n",
    "=====================================\n",
    "\"\"\"\n",
    "#-----------------------------------------------------------------------\n",
    "# create regular 2D grid and plot data\n",
    "#-----------------------------------------------------------------------\n",
    "ndata = 400 \n",
    "x = np.linspace(east_min,east_max,ndata)\n",
    "y = np.linspace(north_min,north_max,ndata)\n",
    "xi,yi = np.meshgrid(x,y)\n",
    "#zi = scipy.interpolate.griddata ((topo[:,0],topo[:,1]),topo[:,2],(xi,yi), method='linear')\n",
    "zi = scipy.interpolate.griddata ((topo[:,0],topo[:,1]),topo[:,2],(xi,yi), method='nearest')\n",
    "#-----------------------------------------------------------------------\n",
    "# plot topography\n",
    "#-----------------------------------------------------------------------\n",
    "fig,ax1 = plt.subplots(1,1,figsize=(10.0, 8.0))\n",
    "\n",
    "ax1.set_xlabel('Easting [m]')\n",
    "ax1.set_ylabel('Northing [m]')\n",
    "ax1.ticklabel_format(useOffset=False)\n",
    "ax1.contour(xi, yi, zi, 15, linewidths = 0.5, colors = 'k')\n",
    "im=ax1.pcolormesh(xi, yi, zi, cmap = plt.get_cmap('rainbow'))\n",
    "fig.colorbar(im,ax=ax1)\n",
    "ax1.plot([388200,388600],[5809700,5809700],linestyle=':',linewidth=2,color='blue')\n",
    "ax1.plot([388200,388600],[5809800,5809800],linestyle=':',linewidth=2,color='red')\n",
    "ax1.set_xlim([388200,388600])\n",
    "ax1.set_ylim([5809500,5809900])\n",
    "plt.tight_layout()\n",
    "plt.savefig(\"Campus_topo.png\")\n",
    "plt.show()"
   ]
  },
  {
   "cell_type": "markdown",
   "metadata": {},
   "source": [
    "## Extract profiles from DEM data"
   ]
  },
  {
   "cell_type": "code",
   "execution_count": null,
   "metadata": {},
   "outputs": [],
   "source": [
    "#-----------------------------------------------------------------------\n",
    "# extract two profiles\n",
    "#-----------------------------------------------------------------------\n",
    "nxy=topo.shape\n",
    "print (nxy[0])\n",
    "profile1 = np.empty(shape=[0,2])\n",
    "profile2 = np.empty(shape=[0,2])\n",
    "print (profile1.shape,profile2.shape)\n",
    "for i in range(nxy[0]):\n",
    "    if topo[i,1] > 5809799 and topo[i,1] < 5809801:\n",
    "        profile2 = np.append(profile2,[[topo[i,0],topo[i,2]]], axis=0)\n",
    "    if topo[i,1] > 5809699 and topo[i,1] < 5809701:\n",
    "        profile1 = np.append(profile1,[[topo[i,0],topo[i,2]]], axis=0)\n",
    "print ('%s data type: %s\\n%s data dimensions: %s' % \\\n",
    "      ('profile1: ',type(profile1),'profile1: ',profile1.shape))\n",
    "print ('%s data type: %s\\n%s data dimensions: %s' % \\\n",
    "      ('profile2: ',type(profile2),'profile1: ',profile1.shape))\n",
    "#-----------------------------------------------------------------------\n",
    "# write profile data  into file\n",
    "#-----------------------------------------------------------------------\n",
    "outfile1='Campus1.xy'\n",
    "print ('=============================')\n",
    "print ('%s %s' % ('Writing file: ',outfile1))\n",
    "np.savetxt(outfile1, profile1, fmt='%8.0f %8.2f', delimiter=' ')\n",
    "outfile2='Campus2.xy'\n",
    "print ('=============================')\n",
    "print ('%s %s' % ('Writing file: ',outfile2))\n",
    "np.savetxt(outfile2, profile2, fmt='%8.0f %8.2f', delimiter=' ')"
   ]
  },
  {
   "cell_type": "code",
   "execution_count": null,
   "metadata": {},
   "outputs": [],
   "source": [
    "#-----------------------------------------------------------------------\n",
    "# plot two profiles\n",
    "#-----------------------------------------------------------------------\n",
    "fig,axs = plt.subplots(1,2,figsize=(14.0, 4.0))\n",
    "plt.rc(\"font\",size=14)\n",
    "axs[0].set_xlabel('Easting [m]',size=12)\n",
    "axs[0].set_ylabel('Elevation [m]',size=12)\n",
    "axs[0].set_title('1. profile',size=25)\n",
    "axs[0].plot(profile1[:,0],profile1[:,1],color='blue',linestyle='-',linewidth=2,label='5809700')\n",
    "#axs[0].plot(profile1[:,0],profile1[:,1],marker='x',markersize=4.5,color='blue')\n",
    "axs[0].set_xlim([388200,388400])\n",
    "axs[0].set_ylim([42,48])\n",
    "axs[0].ticklabel_format(useOffset=False)\n",
    "axs[0].set_xticks([388200,388300,388400])\n",
    "axs[0].legend()\n",
    "\n",
    "axs[1].set_xlabel('Easting [m]',size=12)\n",
    "axs[1].set_ylabel('Elevation [m]',size=12)\n",
    "axs[1].set_title('2. profile',size=25)\n",
    "axs[1].plot(profile2[:,0],profile2[:,1],color='red',linestyle='-',linewidth=2,label='5809800')\n",
    "#axs[1].plot(profile2[:,0],profile2[:,1],marker='x',markersize=4.5,color='red')\n",
    "axs[1].set_xlim([388200,388400])\n",
    "axs[1].set_ylim([42,48])\n",
    "axs[1].ticklabel_format(useOffset=False)\n",
    "axs[1].set_xticks([388200,388300,388400])\n",
    "axs[1].legend()\n",
    "plt.tight_layout()\n",
    "plt.savefig(\"Campus_profiles.png\")\n",
    "plt.show()"
   ]
  },
  {
   "cell_type": "markdown",
   "metadata": {},
   "source": [
    "## Plot structures on DEM "
   ]
  },
  {
   "cell_type": "code",
   "execution_count": null,
   "metadata": {},
   "outputs": [],
   "source": [
    "#-----------------------------------------------------------------------\n",
    "# read data into field\n",
    "#-----------------------------------------------------------------------\n",
    "inpath='data/'\n",
    "infile='Rigole.xy'\n",
    "rigole=np.loadtxt(fname=inpath+infile,skiprows=1)\n",
    "infile='Tunnel.xy'\n",
    "tunnel=np.loadtxt(fname=inpath+infile,skiprows=1)\n",
    "#-----------------------------------------------------------------------\n",
    "# plot topography\n",
    "#-----------------------------------------------------------------------\n",
    "fig,ax1 = plt.subplots(1,1,figsize=(10.0, 8.0))\n",
    "\n",
    "ax1.set_xlabel('Easting [m]')\n",
    "ax1.set_ylabel('Northing [m]')\n",
    "ax1.ticklabel_format(useOffset=False)\n",
    "ax1.contour(xi, yi, zi, 15, linewidths = 0.5, colors = 'k')\n",
    "im=ax1.pcolormesh(xi, yi, zi, cmap = plt.get_cmap('rainbow'))\n",
    "fig.colorbar(im,ax=ax1)\n",
    "ax1.plot(rigole[:,0],rigole[:,1],linestyle='-',linewidth=2,color='red')\n",
    "ax1.plot(tunnel[:,0],tunnel[:,1],linestyle='-',linewidth=2,color='red')\n",
    "ax1.set_xlim([388200,388600])\n",
    "ax1.set_ylim([5809500,5809900])\n",
    "plt.tight_layout()\n",
    "plt.savefig(\"Campus_topo.png\")\n",
    "plt.show()"
   ]
  },
  {
   "cell_type": "markdown",
   "metadata": {},
   "source": [
    "## 3D plot of DEM "
   ]
  },
  {
   "cell_type": "code",
   "execution_count": null,
   "metadata": {},
   "outputs": [],
   "source": [
    "\"\"\"\n",
    "=====================================\n",
    "Example to learn reading ascii data\n",
    "and plot 3D data \n",
    "(c) Georg Kaufmann 2017\n",
    "=====================================\n",
    "\"\"\"\n",
    "%matplotlib notebook\n",
    "from matplotlib import cm\n",
    "from mpl_toolkits.mplot3d import Axes3D\n",
    "#-----------------------------------------------------------------------\n",
    "# read data into field\n",
    "#-----------------------------------------------------------------------\n",
    "inpath='data/'\n",
    "infile='Campus.xyz'\n",
    "topo=np.loadtxt(fname=inpath+infile,skiprows=6)\n",
    "print (type(topo),topo.shape)\n",
    "#-----------------------------------------------------------------------\n",
    "# create mesh data\n",
    "#-----------------------------------------------------------------------\n",
    "east_min = np.min(topo[:,0])\n",
    "east_max = np.max(topo[:,0])\n",
    "north_min = np.min(topo[:,1])\n",
    "north_max = np.max(topo[:,1])\n",
    "ndata = 101 \n",
    "xi = np.linspace(east_min,east_max,ndata)\n",
    "yi = np.linspace(north_min,north_max,ndata)\n",
    "X,Y = np.meshgrid(xi,yi)\n",
    "Z = scipy.interpolate.griddata ((topo[:,0],topo[:,1]),topo[:,2],(X,Y), method='nearest')\n",
    "print (X.shape,Y.shape,Z.shape)\n",
    "#-----------------------------------------------------------------------\n",
    "# plot multiple figure\n",
    "#-----------------------------------------------------------------------\n",
    "fig = plt.figure(figsize=(10.0, 6.0))\n",
    "ax = Axes3D(fig)\n",
    "surf=ax.plot_surface(X,Y,Z, rstride=1, cstride=1, alpha=1.0, linewidth=0,cmap=cm.gist_earth)\n",
    "#ax.contour(X,Y,Z, cmap=cm.gist_earth)\n",
    "ax.contourf(X,Y,Z, zdir='z', offset=30, cmap=cm.coolwarm)\n",
    "ax.contour(X,Y,Z, colors='black', offset=30)\n",
    "ax.set_xlabel('Easting [m]')\n",
    "ax.set_xlim(388200,388600)\n",
    "ax.set_ylabel('Northing [m]')\n",
    "ax.set_ylim(5809500,5809900)\n",
    "ax.set_zlabel('Elevation [m]')\n",
    "ax.set_zlim(30, 50) \n",
    "ax.ticklabel_format(useOffset=False)\n",
    "clb=fig.colorbar(surf, shrink=0.5, aspect=5)\n",
    "clb.ax.set_title('m')\n",
    "\n",
    "plt.savefig(\"Campus_3Dtopo.png\")\n",
    "plt.show()"
   ]
  },
  {
   "cell_type": "markdown",
   "metadata": {},
   "source": [
    "... done"
   ]
  }
 ],
 "metadata": {
  "kernelspec": {
   "display_name": "Python 3",
   "language": "python",
   "name": "python3"
  },
  "language_info": {
   "codemirror_mode": {
    "name": "ipython",
    "version": 3
   },
   "file_extension": ".py",
   "mimetype": "text/x-python",
   "name": "python",
   "nbconvert_exporter": "python",
   "pygments_lexer": "ipython3",
   "version": "3.7.3"
  }
 },
 "nbformat": 4,
 "nbformat_minor": 1
}
