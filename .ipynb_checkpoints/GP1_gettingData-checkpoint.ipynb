{
 "cells": [
  {
   "cell_type": "markdown",
   "metadata": {},
   "source": [
    "<table>\n",
    "<tr><td><img style=\"height: 150px;\" src=\"images/geo_hydro1.jpg\"></td>\n",
    "<td bgcolor=\"#FFFFFF\">\n",
    "    <p style=\"font-size: xx-large; font-weight: 900; line-height: 100%\">AG Dynamics of the Earth</p>\n",
    "    <p style=\"font-size: large; color: rgba(0,0,0,0.5);\">Jupyter notebooks</p>\n",
    "    <p style=\"font-size: large; color: rgba(0,0,0,0.5);\">Georg Kaufmann</p>\n",
    "    </td>\n",
    "</tr>\n",
    "</table>"
   ]
  },
  {
   "cell_type": "markdown",
   "metadata": {},
   "source": [
    "# Geophysikalisches Praktikum: Open-source data\n",
    "\n",
    "## Download open-source data\n",
    "----\n",
    "*Georg Kaufmann,\n",
    "Geophysics Section,\n",
    "Institute of Geological Sciences,\n",
    "Freie Universität Berlin,\n",
    "Germany*"
   ]
  },
  {
   "cell_type": "markdown",
   "metadata": {},
   "source": [
    "In this notebook, we will learn to locate and download open-source geodata from a public web source.\n",
    "\n",
    "We use as example the **FU Geocampus**.\n",
    "\n",
    "**Note:** The web service for geodata frequently change, so this page is only a snapshot in time ...\n",
    "\n",
    "----\n",
    "## Berlin Geodata\n",
    "\n",
    "Currently, the geodata for Berlin can be found though the [FIS broker](https://fbinter.stadt-berlin.de/fb/index.jsp).\n",
    "\n",
    "In the search we look for:\n",
    "- Elevation model (DEM), [see here]()\n",
    "- Orthophots, [see here]()\n",
    "\n",
    "----\n",
    "### DEM data\n",
    "Download the digital elevation model for the FU Geocampus from\n",
    "[DEM data](https://fbinter.stadt-berlin.de/fb/index.jsp?loginkey=zoomStart&mapId=k_dgm1@senstadt&bbox=387739,5809374,388965,5810108) ...\n",
    "- Locate the Geocampus\n",
    "- Identify the UTM coordinates of the Geocampus (lower right)\n",
    "- Identify the download from `Angaben zur Karte -> i`. Here, use the link `zum Downloaddienst (Atom)` \n",
    "- Download the zip file `DGM1_388_5808.zip` and unpack.\n",
    "\n",
    "The file contains raw elevation data from LIDAR scanning. The three columns are:\n",
    "- easting [m]\n",
    "- northing [m]\n",
    "- elevation [m]\n",
    "\n",
    "As this file is large, in the notebooks you find a cut-out for the Geocampus ..."
   ]
  },
  {
   "cell_type": "raw",
   "metadata": {},
   "source": [
    "388000.500 5808000.500 43.59\n",
    "388001.500 5808000.500 43.59\n",
    "388002.500 5808000.500 43.57\n",
    "388003.500 5808000.500 43.57\n",
    "388004.500 5808000.500 43.60\n",
    "388005.500 5808000.500 43.60"
   ]
  },
  {
   "cell_type": "markdown",
   "metadata": {},
   "source": [
    "----\n",
    "### Orthophotos\n",
    "Download the orthophotos for the FU Geocampus from\n",
    "[DEM data](https://fbinter.stadt-berlin.de/fb/index.jsp?loginkey=zoomStart&mapId=k_luftbild2023_true_rgbi@senstadt&bbox=387723,5809364,388980,5810117) ...\n",
    "- Locate the Geocampus\n",
    "- Identify the UTM coordinates of the Geocampus (lower right)\n",
    "- Identify the download from `Angaben zur Karte -> i`. Here, use the link `zum Downloaddienst (Atom)` \n",
    "- Download the zip file `Süd (application/x-jp2, EPSG/0/25833)` and unpack.\n",
    "\n",
    "The orthophoto for the Geocampus is `dop20rgbi_33_388_5808_2_be_2023.jp2`. A smaller version looks like:\n",
    "\n",
    "<img src='data/FUGeocampus/Orthophoto_Geocampus.jpg' style='width:15cm;'>"
   ]
  },
  {
   "cell_type": "markdown",
   "metadata": {},
   "source": [
    "... done"
   ]
  }
 ],
 "metadata": {
  "kernelspec": {
   "display_name": "Python 3 (ipykernel)",
   "language": "python",
   "name": "python3"
  },
  "language_info": {
   "codemirror_mode": {
    "name": "ipython",
    "version": 3
   },
   "file_extension": ".py",
   "mimetype": "text/x-python",
   "name": "python",
   "nbconvert_exporter": "python",
   "pygments_lexer": "ipython3",
   "version": "3.11.3"
  }
 },
 "nbformat": 4,
 "nbformat_minor": 4
}
