{
 "cells": [
  {
   "cell_type": "markdown",
   "metadata": {},
   "source": [
    "<table>\n",
    "<tr><td><img style=\"height: 150px;\" src=\"images/geo_hydro1.jpg\"></td>\n",
    "<td bgcolor=\"#FFFFFF\">\n",
    "    <p style=\"font-size: xx-large; font-weight: 900; line-height: 100%\">AG Dynamics of the Earth</p>\n",
    "    <p style=\"font-size: large; color: rgba(0,0,0,0.5);\">Juypter notebooks</p>\n",
    "    <p style=\"font-size: large; color: rgba(0,0,0,0.5);\">Georg Kaufmann</p>\n",
    "    </td>\n",
    "</tr>\n",
    "</table>"
   ]
  },
  {
   "cell_type": "markdown",
   "metadata": {},
   "source": [
    "# Geophysikalisches Praktikum: Geographical Information System\n",
    "\n",
    "## Quantum GIS, the free GIS software\n",
    "----\n",
    "*Georg Kaufmann,\n",
    "Geophysics Section,\n",
    "Institute of Geological Sciences,\n",
    "Freie Universität Berlin,\n",
    "Germany*\n",
    "\n"
   ]
  },
  {
   "cell_type": "markdown",
   "metadata": {},
   "source": [
    "In this notebook, we will learn basic principles of GIS software with the open-source `QGIS` package.\n",
    "<img src=\"images/QGis_Logo.png\" style=\"height:2cm\">\n",
    "\n",
    "----\n",
    "## Method\n",
    "\n",
    "Geophysical data can be conveniently presented in a **GIS** (Geographical Information System). \n",
    "\n",
    "We use [**QGIS**](http://www.qgis.org) as tool, as QGIS is open-source software and thus freely available for download. \n",
    "The QGIS software is available for Windows, Linux, and Mac OS X.\n",
    "\n",
    "----\n",
    "## Preparation\n",
    "\n",
    "Download and install QGIS on your computer (I am currently using version 3.16, the latest **long-term support**\n",
    "version). \n",
    "\n",
    "Run QGIS and install several additional plugins (Plugins -> Manage and Install Plugins ...):\n",
    "\n",
    "- MMQGIS\n",
    "- QuickMapServices\n",
    "- ...\n",
    "\n",
    "Note: in the current version of QGIS, **openstreetmap** is already implemented!"
   ]
  },
  {
   "cell_type": "markdown",
   "metadata": {},
   "source": [
    "----\n",
    "## First example: GeoCampus Lankwitz\n",
    "\n",
    "Start `qgis`. Usually, an empty canvas will start, probably with some news:\n",
    "<img src=\"images/qgis01.png\" style=\"height:10cm\">\n",
    "\n",
    "- We start a **new empty project**, either from the templates or with the icon in the top row left.\n",
    "\n",
    "### Load a map\n",
    "We then add `openStreetMap` to locate our field work site. Either use `XYZ Tiles` from the Browser tab,\n",
    "or `Web->QuickMapServies->OSM->OSM Standard`. Zoom to GeoCampus Lankwitz.\n",
    "<img src=\"images/qgis02.png\" style=\"height:10cm\">\n",
    "We change the projection to UTM zone 33 by clicking the projection symbol in the lower right corner,\n",
    "and choose the **EPSG** code 32633."
   ]
  },
  {
   "cell_type": "markdown",
   "metadata": {},
   "source": [
    "### Load a DEM as raster data\n",
    "Locate the `Campus.tif` file in the data directory, drag it to the Layers tab and drop it there. It will appear as `Raster layer`, showing the digital elevation model (DEM):\n",
    "<img src=\"images/qgis03.png\" style=\"height:10cm\">\n",
    "\n",
    "The reason why this tif file is correcly placed is the coordinate information embedded in the metadata of the file,\n",
    "which contains the coordinates of the upper right corner and the discretisation.\n",
    "\n",
    "Let's change the layout of the raster DEM. Double-click on **Campus**, the `Layer Properties` dialog opens.\n",
    "As render type choose `Singleband pseudocolor`, set `Min/Max` values to 40 and 47m,\n",
    "choose a `Color ramp`, `Mode` as *Equal Interval*, and `Classes` to *8*. Then press apply and ok.\n",
    "\n",
    "Optionally, choose `Blending mode` as *multiply*.\n",
    "<img src=\"images/qgis04.png\" style=\"height:10cm\">"
   ]
  },
  {
   "cell_type": "markdown",
   "metadata": {},
   "source": [
    "### Load points as vector data\n",
    "Next, we add some base points from an ascii file. Locate the file `BasePoints.csv`in the data directory.\n",
    "Have a look at it, it is comma-separated format (csv), but in this case with `|` as separation. Let's load it.\n",
    "Use `Layer->Add Layer->Add Delimited Text Layer`. In the first line, locate the csv file (use the dots),\n",
    "give the Layer a name, define as `Custom delimiters` the pipe symbol, define the `X Field` and `Y Field` fields\n",
    "as the coordinates. **Important:** Define the coordinate system. Because the coordinates are lon/lat, we\n",
    "use the **EPSG** code 4326 for the global Mercator projection. The points should appear after pressing `Ok`.\n",
    "\n",
    "Now a somewhat weird change. We export the layer by right-clicking onto the layer and choose \n",
    "`Export->Save Features As` and save the new layer as ESRI shape file. Careful: Locate your directory first!\n",
    "<img src=\"images/qgis05.png\" style=\"height:10cm\">\n",
    "This export makes it easier later to exchange files with other people ...\n",
    "\n",
    "Try filtering, e.g.:\n",
    "- `Raster -> Analysis -> Slope`\n",
    "\n",
    "- `Raster -> Extraction -> Contour`"
   ]
  },
  {
   "cell_type": "markdown",
   "metadata": {},
   "source": [
    "### Load figure for georeferencing\n",
    "We now want to get outlines for the **tunnel** and the **rigole** on the GeoCampus from a map, which we\n",
    "have as a figure. We load this figure with `Raster->Georeferencer...` to orient it with correct coordinates:\n",
    "\n",
    "1. Load map with `Open Raster ...` in the top left corner, it will be displayed in the canvas.\n",
    "2. Define at least three `GCP points` in the images, which you can also identify in the map open in the main\n",
    "GIS panel. Position the each GCP point in the figure, then this will relay you to the map for location, then accept the point.\n",
    "3. `Run` the georeferencer. It will first ask you to define a coordinate system, then you need to re-run it. Upon\n",
    "completion, the georeferenced map should be displayed in the main GIS window at the correct location.\n",
    "\n",
    "<img src=\"images/qgis06.png\" style=\"height:10cm\">"
   ]
  },
  {
   "cell_type": "markdown",
   "metadata": {},
   "source": [
    "### Digitize tunnel and rigole\n",
    "\n",
    "Next we digitize the **tunnel** and the **rigole** on the georeferenced GeoCampus map. \n",
    "We first need to create an empty layer. We use `Layer->New Shapefile Layer...`, then:\n",
    "\n",
    "- Define a **File name** for the layer (careful, you need to use the three dots to\n",
    "move to your desired working directory!).\n",
    "- Choose a **Geometry type**, in our case the **Line** option.\n",
    "- Define the **coordinate system** under Additional dimensions (our UTM 33T zone, epsg: 32633).\n",
    "- We might add, beside the **id** entry in the attribute table, another entry, e.g. **object** as\n",
    "text to label our digitised objects.\n",
    "\n",
    "Then by pressing ok, the new shapefile layer is created and appears in the Layers dialog.\n",
    "\n",
    "To start digitizing, we click on the **pencil** symbol, which becomes active. Then we have\n",
    "to choose the **add line feature** next to it, and we can start drawing on the canvas.\n",
    "After each line digitized, we are asked for the **id** the the **object**, which will\n",
    "be used in the attribute table for identification.\n",
    "\n",
    "Saving is initiated, when we click the **pencil** again, which de-activates editing, and\n",
    "a save dialog appears.\n",
    "\n",
    "<img src=\"images/qgis07.png\" style=\"height:10cm\">\n",
    "\n",
    "Finally, we want to export the digitized lines. Use\n",
    "`MMQGIS->Import/Export->Geometry Export to CSV` as export option. Then, two files are\n",
    "saved, one with the coordinates (xxx-nodes.csv), and one with the attribute table\n",
    "(xxx-attributes.csv). This files can be used directly as import in other programs."
   ]
  },
  {
   "cell_type": "markdown",
   "metadata": {},
   "source": [
    "... done"
   ]
  }
 ],
 "metadata": {
  "kernelspec": {
   "display_name": "Python 3",
   "language": "python",
   "name": "python3"
  },
  "language_info": {
   "codemirror_mode": {
    "name": "ipython",
    "version": 3
   },
   "file_extension": ".py",
   "mimetype": "text/x-python",
   "name": "python",
   "nbconvert_exporter": "python",
   "pygments_lexer": "ipython3",
   "version": "3.7.3"
  }
 },
 "nbformat": 4,
 "nbformat_minor": 1
}
