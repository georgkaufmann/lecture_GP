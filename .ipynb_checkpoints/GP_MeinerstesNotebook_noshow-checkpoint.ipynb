{
 "cells": [
  {
   "cell_type": "markdown",
   "metadata": {},
   "source": [
    "# Mein erstes Notebook\n",
    "\n",
    "## Simple math\n",
    "$$2+2=?$$\n",
    "$$2+3 \\times 3=?$$\n",
    "$$\\sqrt{3 \\times 3}=3$$\n",
    "$$\\sqrt{3}^2=3$$"
   ]
  },
  {
   "cell_type": "code",
   "execution_count": 8,
   "metadata": {},
   "outputs": [
    {
     "data": {
      "text/plain": [
       "4"
      ]
     },
     "execution_count": 8,
     "metadata": {},
     "output_type": "execute_result"
    }
   ],
   "source": [
    "2+2"
   ]
  },
  {
   "cell_type": "code",
   "execution_count": 9,
   "metadata": {},
   "outputs": [
    {
     "data": {
      "text/plain": [
       "11"
      ]
     },
     "execution_count": 9,
     "metadata": {},
     "output_type": "execute_result"
    }
   ],
   "source": [
    "2+3*3"
   ]
  },
  {
   "cell_type": "code",
   "execution_count": 10,
   "metadata": {},
   "outputs": [
    {
     "name": "stdout",
     "output_type": "stream",
     "text": [
      "True\n",
      "False\n"
     ]
    }
   ],
   "source": [
    "import math\n",
    "\n",
    "print(math.sqrt(3*3)==3)\n",
    "print(math.sqrt(3)**2==3)"
   ]
  },
  {
   "cell_type": "code",
   "execution_count": 11,
   "metadata": {},
   "outputs": [
    {
     "name": "stdout",
     "output_type": "stream",
     "text": [
      "1 2.0 GP [1, 2.0, 'GP']\n",
      "<class 'int'> <class 'float'> <class 'str'> <class 'list'>\n",
      "0 <class 'int'>\n",
      "1 <class 'float'>\n",
      "2 <class 'str'>\n"
     ]
    }
   ],
   "source": [
    "i=1\n",
    "a=2.\n",
    "name='GP'\n",
    "liste=[i,a,name]\n",
    "\n",
    "print(i,a,name,liste)\n",
    "print(type(i),type(a),type(name),type(liste))\n",
    "\n",
    "for i in [0,1,2]:\n",
    "    print(i,type(liste[i]))"
   ]
  },
  {
   "cell_type": "markdown",
   "metadata": {},
   "source": [
    "$$\n",
    "f(x)=x^2\n",
    "$$"
   ]
  },
  {
   "cell_type": "code",
   "execution_count": 12,
   "metadata": {},
   "outputs": [
    {
     "name": "stdout",
     "output_type": "stream",
     "text": [
      "[-1.  -0.9 -0.8 -0.7 -0.6 -0.5 -0.4 -0.3 -0.2 -0.1  0.   0.1  0.2  0.3\n",
      "  0.4  0.5  0.6  0.7  0.8  0.9  1. ]\n",
      "[1.   0.81 0.64 0.49 0.36 0.25 0.16 0.09 0.04 0.01 0.   0.01 0.04 0.09\n",
      " 0.16 0.25 0.36 0.49 0.64 0.81 1.  ]\n"
     ]
    }
   ],
   "source": [
    "import numpy as np\n",
    "x = np.linspace(-1,1,21)\n",
    "y = x**2\n",
    "print(x)\n",
    "print(y)"
   ]
  },
  {
   "cell_type": "code",
   "execution_count": 13,
   "metadata": {},
   "outputs": [
    {
     "data": {
      "image/png": "[encoded data removed]",
      "text/plain": [
       "<Figure size 432x288 with 1 Axes>"
      ]
     },
     "metadata": {
      "needs_background": "light"
     },
     "output_type": "display_data"
    }
   ],
   "source": [
    "import matplotlib.pyplot as plt\n",
    "plt.plot(x,y)"
   ]
  },
  {
   "cell_type": "markdown",
   "metadata": {},
   "source": [
    "$$\n",
    "f(x)=a x^2 + b x + c\n",
    "$$"
   ]
  },
  {
   "cell_type": "code",
   "execution_count": 3,
   "metadata": {},
   "outputs": [],
   "source": [
    "def f(x,a=1,b=0,c=0):\n",
    "    \"\"\"\n",
    "    -----------------------------------\n",
    "    Function calculates the polynomial\n",
    "    y=a*x^2 + b*x + c\n",
    "    Input:  array x\n",
    "            coefficients a,b,c\n",
    "    Output: value of function\n",
    "    -----------------------------------\n",
    "    \"\"\"\n",
    "    y = a*x**2 + b*x + c\n",
    "    return y"
   ]
  },
  {
   "cell_type": "code",
   "execution_count": 5,
   "metadata": {},
   "outputs": [
    {
     "name": "stdout",
     "output_type": "stream",
     "text": [
      "Help on function f in module __main__:\n",
      "\n",
      "f(x, a=1, b=0, c=0)\n",
      "    -----------------------------------\n",
      "    Function calculates the polynomial\n",
      "    y=a*x^2 + b*x + c\n",
      "    Input:  array x\n",
      "            coefficients a,b,c\n",
      "    Output: value of function\n",
      "    -----------------------------------\n",
      "\n",
      "\n",
      "    -----------------------------------\n",
      "    Function calculates the polynomial\n",
      "    y=a*x^2 + b*x + c\n",
      "    Input:  array x\n",
      "            coefficients a,b,c\n",
      "    Output: value of function\n",
      "    -----------------------------------\n",
      "    \n"
     ]
    }
   ],
   "source": [
    "help(f)\n",
    "print(f.__doc__)"
   ]
  },
  {
   "cell_type": "code",
   "execution_count": 18,
   "metadata": {},
   "outputs": [
    {
     "data": {
      "text/plain": [
       "[<matplotlib.lines.Line2D at 0x117a8f3d0>]"
      ]
     },
     "execution_count": 18,
     "metadata": {},
     "output_type": "execute_result"
    },
    {
     "data": {
      "image/png": "[encoded data removed]",
      "text/plain": [
       "<Figure size 432x288 with 1 Axes>"
      ]
     },
     "metadata": {
      "needs_background": "light"
     },
     "output_type": "display_data"
    }
   ],
   "source": [
    "y = f(x,a=0,b=1)\n",
    "plt.plot(x,y)"
   ]
  },
  {
   "cell_type": "code",
   "execution_count": 17,
   "metadata": {},
   "outputs": [
    {
     "data": {
      "text/plain": [
       "<matplotlib.legend.Legend at 0x1179134c0>"
      ]
     },
     "execution_count": 17,
     "metadata": {},
     "output_type": "execute_result"
    },
    {
     "data": {
      "image/png": "[encoded data removed]",
      "text/plain": [
       "<Figure size 432x288 with 1 Axes>"
      ]
     },
     "metadata": {
      "needs_background": "light"
     },
     "output_type": "display_data"
    }
   ],
   "source": [
    "plt.plot(x,f(x,a=0,b=1),label='linear')\n",
    "plt.plot(x,f(x,a=1,b=0),label='quadratic')\n",
    "plt.plot(x,f(x,a=1,b=1),label='linear & quadratic')\n",
    "plt.legend()"
   ]
  },
  {
   "cell_type": "markdown",
   "metadata": {},
   "source": [
    "... done"
   ]
  }
 ],
 "metadata": {
  "kernelspec": {
   "display_name": "Python 3 (ipykernel)",
   "language": "python",
   "name": "python3"
  },
  "language_info": {
   "codemirror_mode": {
    "name": "ipython",
    "version": 3
   },
   "file_extension": ".py",
   "mimetype": "text/x-python",
   "name": "python",
   "nbconvert_exporter": "python",
   "pygments_lexer": "ipython3",
   "version": "3.9.6"
  }
 },
 "nbformat": 4,
 "nbformat_minor": 2
}
