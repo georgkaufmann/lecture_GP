{
 "cells": [
  {
   "cell_type": "markdown",
   "metadata": {},
   "source": [
    "<table>\n",
    "<tr><td><img style=\"height: 150px;\" src=\"images/geo_hydro1.jpg\"></td>\n",
    "<td bgcolor=\"#FFFFFF\">\n",
    "    <p style=\"font-size: xx-large; font-weight: 900; line-height: 100%\">AG Dynamics of the Earth</p>\n",
    "    <p style=\"font-size: large; color: rgba(0,0,0,0.5);\">Jupyter notebooks</p>\n",
    "    <p style=\"font-size: large; color: rgba(0,0,0,0.5);\">Georg Kaufmann</p>\n",
    "    </td>\n",
    "</tr>\n",
    "</table>"
   ]
  },
  {
   "cell_type": "markdown",
   "metadata": {},
   "source": [
    "# Geophysikalisches Praktikum: Modelling\n",
    "\n",
    "## Simple model for gravity \n",
    "----\n",
    "*Georg Kaufmann,\n",
    "Geophysics Section,\n",
    "Institute of Geological Sciences,\n",
    "Freie Universität Berlin,\n",
    "Germany*\n",
    "\n"
   ]
  },
  {
   "cell_type": "markdown",
   "metadata": {},
   "source": [
    "In this notebook, we define a simple sphere as mass for gravity modelling.\n",
    "<img src=\"images/3Dsphere_boug.png\" style=\"height:5cm\">"
   ]
  },
  {
   "cell_type": "code",
   "execution_count": null,
   "metadata": {},
   "outputs": [],
   "source": [
    "import numpy as np\n",
    "import matplotlib.pyplot as plt\n",
    "import GP_modules\n",
    "GP_modules.change_fontsize()"
   ]
  },
  {
   "cell_type": "markdown",
   "metadata": {},
   "source": [
    "----\n",
    "## Theory\n",
    "\n",
    "The **gravitational acceleration** $\\vec{g}$ [m/s$^2$] is defined as:\n",
    "$$\n",
    "\\vec{g} = \\frac{GM}{r^2} \\hat{r}\n",
    "$$\n",
    "with \n",
    "- $G=6.672 \\times 10^{-11}$ [m$^3$/kg/s$^2$] the gravitational constant,\n",
    "- $M$ [kg] the mass,\n",
    "- $r$ [m] the distance between center of sphere and observation point,\n",
    "- $\\hat{r}$ [-] the unit vector in the direction center of sphere-observation point.\n",
    "\n",
    "We define the **coordinates** for the:\n",
    "- **observation point** $\\vec{r}_o=(x_o,y_o,z_o)^T$\n",
    "- **center of sphere**  $\\vec{r}_p=(x_p,y_p,z_p)^T$\n",
    "\n",
    "Then, $r=|\\vec{r}_p-\\vec{r}_o|=\\sqrt{(x_p-x_o)^2+(y_p-y_o)^2+(z_p-z_o)^2}$\n",
    "\n",
    "Next, we represent **mass** $m$ as the product of **density** $\\rho$ [kg/m$^3$] and **volume** $V$ [m$^3$]:\n",
    "$$\n",
    "M=\\rho V\n",
    "$$\n",
    "and introduce a differential notation for the volume:\n",
    "$$\n",
    "V= \\int\\limits_V dV\n",
    "$$\n",
    "\n",
    "Then, gravitational acceleration becomes:\n",
    "$$\n",
    "\\vec{g} = G \\int\\limits_V \\frac{\\rho (\\vec{r}_p-\\vec{r}_o)}{r^3} dV\n",
    "$$\n",
    "Note that we changed the unit vector $\\hat{r}$ to its dimensional version $\\vec{r}_p-\\vec{r}_o$.\n",
    "\n",
    "This equation is the base for both theoretical derivations of the gravity field and modelling."
   ]
  },
  {
   "cell_type": "markdown",
   "metadata": {},
   "source": [
    "----\n",
    "## Sphere as model\n",
    "\n",
    "We solve the volume integral for gravitational acceleration for a sphere of radius $R$ [m]\n",
    "buried with its center in the depth $\\vec{r}_s=(x_p,y_p,z_p)^T$. We obtain (Lecture Angewandte Geophysik II):\n",
    "$$\n",
    "\\begin{array}{rcl}\n",
    "\\Delta g_x    & = & \\frac{4}{3} \\pi G \\rho R^3 \n",
    "                     \\frac{x_p-x_o}{((x_p-x_o)^2 + (y_p-y_o)^2 + (z_p-z_o)^2)^{\\frac{3}{2}}}\\\\\n",
    "\\Delta g_y    & = & \\frac{4}{3} \\pi G \\rho R^3 \n",
    "                     \\frac{y_p-y_o}{((x_p-x_o)^2 + (y_p-y_o)^2 + (z_p-z_o)^2)^{\\frac{3}{2}}}\\\\\n",
    "\\Delta g_z    & = & \\frac{4}{3} \\pi G \\rho R^3 \n",
    "                     \\frac{z_p-z_o}{((x_p-x_o)^2 + (y_p-y_o)^2 + (z_p-z_o)^2)^{\\frac{3}{2}}}\n",
    "\\end{array}\n",
    "$$\n",
    "We translate these three equations into a`python` function:"
   ]
  },
  {
   "cell_type": "code",
   "execution_count": null,
   "metadata": {},
   "outputs": [],
   "source": [
    "def grav_sphere(xo,yo,zo,xp,yp,zp,radius,rho):\n",
    "    \"\"\"\n",
    "    !-----------------------------------------------------------------------\n",
    "    ! Bouguer-Anomaly for a buried sphere\n",
    "    ! x-axis is north, z-axis vertically down\n",
    "    !\n",
    "    ! Input parameters:\n",
    "    ! xo,yo,zo [m]       - location of observation point\n",
    "    ! xp,yp,zp [m]       - location of center of sphere\n",
    "    ! rho [kg/m^3]       - density difference\n",
    "    ! radius [m]         - radius of sphere\n",
    "    !\n",
    "    ! Output parameter:\n",
    "    ! gx,gy,gz [mGal]    - gravity component at observation point\n",
    "    !\n",
    "    ! from:\n",
    "    ! Blakeley (1995): Potential theory in gravity & magnetic applications\n",
    "    !-----------------------------------------------------------------------\n",
    "    \"\"\"\n",
    "    G       = 6.672e-11     # m^3/kg/s^2\n",
    "    si2mgal = 1.e5          # m/s^2 -> mGal\n",
    "\n",
    "    rx   = xo - xp\n",
    "    ry   = yo - yp\n",
    "    rz   = zo - zp\n",
    "    r    = rx**2 + ry**2 + rz**2\n",
    "    if (r == 0):\n",
    "        print ('grav_sphere: obs. point in centrum of sphere')\n",
    "    r    = np.sqrt(r)\n",
    "    r3   = r**3\n",
    "    mass = 4./3.*np.pi*rho*radius**3\n",
    "    gx = -G * mass * rx/ r3 * si2mgal\n",
    "    gy = -G * mass * ry/ r3 * si2mgal\n",
    "    gz = -G * mass * rz/ r3 * si2mgal\n",
    "    return gx,gy,gz"
   ]
  },
  {
   "cell_type": "markdown",
   "metadata": {},
   "source": [
    "----\n",
    "## 1D profile\n",
    "\n",
    "We test our function. Define a box with 2 m side length, thus $a=b=c=2$m. \n",
    "Its volume is $V_b=a b c$.\n",
    "\n",
    "From the volume of a sphere, $V_s={{4}\\over{3}} \\pi R^3$, the equivalent sphere radius $R$ follows from\n",
    "$V_b=V_s$:\n",
    "$$\n",
    "R^3 = \\frac{3 a b c}{4 \\pi} \n",
    "$$\n",
    "\n",
    "Using $a=b=c=2$ m, results in $R \\simeq 1.24$ m."
   ]
  },
  {
   "cell_type": "code",
   "execution_count": null,
   "metadata": {},
   "outputs": [],
   "source": [
    "xmin=-10;xmax=30\n",
    "x = np.linspace(xmin,xmax,101)\n",
    "boug_sphere = np.array([])\n",
    "\n",
    "for i in range(len(x)):\n",
    "    gx,gy,gz = grav_sphere(xo=x[i],yo=0,zo=0,xp=0,yp=0,zp=1.5,radius=1.24,rho=500)\n",
    "    boug_sphere = np.append(boug_sphere,gz)\n",
    "    \n",
    "    \n",
    "plt.plot(x,boug_sphere,linewidth=2,color='red',label='sphere below obs point')\n",
    "plt.legend()"
   ]
  },
  {
   "cell_type": "code",
   "execution_count": null,
   "metadata": {},
   "outputs": [],
   "source": [
    "xmin=-10;xmax=10\n",
    "x = np.linspace(xmin,xmax,101)\n",
    "boug_sphere_below = np.array([])\n",
    "boug_sphere_above = np.array([])\n",
    "\n",
    "for i in range(len(x)):\n",
    "    gx,gy,gz = grav_sphere(xo=x[i],yo=0,zo=0,xp=0,yp=0,zp=1.5,radius=1.24,rho=500)\n",
    "    boug_sphere_below = np.append(boug_sphere_below,gz)\n",
    "    gx,gy,gz = grav_sphere(xo=x[i],yo=0,zo=0,xp=0,yp=0,zp=-1.5,radius=1.24,rho=500)\n",
    "    boug_sphere_above = np.append(boug_sphere_above,gz)\n",
    "    \n",
    "    \n",
    "plt.plot(x,boug_sphere_below,linewidth=2,color='red',label='sphere below obs point')\n",
    "plt.plot(x,boug_sphere_above,linewidth=2,color='blue',label='sphere above obs point')\n",
    "plt.legend()"
   ]
  },
  {
   "cell_type": "markdown",
   "metadata": {},
   "source": [
    "----\n",
    "## 2D map\n",
    "\n",
    "Next we plan a two-dimensional survey (east,north as coordinates).\n",
    "\n",
    "We define an anomaly using a sphere with radius $R$ and position $(x_p,y_p,z_p)$ of center of the sphere."
   ]
  },
  {
   "cell_type": "code",
   "execution_count": null,
   "metadata": {},
   "outputs": [],
   "source": [
    "R  = 7.\n",
    "xp = 0.\n",
    "yp = 0.\n",
    "zp = 10."
   ]
  },
  {
   "cell_type": "code",
   "execution_count": null,
   "metadata": {
    "scrolled": false
   },
   "outputs": [],
   "source": [
    "eastmin  = -5;eastmax=15\n",
    "east     = np.linspace(eastmin,eastmax,201)\n",
    "northmin = -10;northmax=10\n",
    "north    = np.linspace(northmin,northmax,101)\n",
    "\n",
    "EAST,NORTH = np.meshgrid(east,north)\n",
    "BOUG=0*EAST\n",
    "print(EAST.shape,NORTH.shape)\n",
    "\n",
    "for j in range(len(east)):\n",
    "    for i in range(len(north)):\n",
    "        #print(i,j,x[i],y[j],xp,yp,zp)\n",
    "        gx,gy,gz = grav_sphere(xo=east[j],yo=north[i],zo=0,xp=xp,yp=yp,zp=zp,radius=R,rho=500)\n",
    "        BOUG[i,j] = gz\n",
    "\n",
    "#plot figure\n",
    "fig,axs = plt.subplots(1,1,figsize=(12,10))\n",
    "# image and contours\n",
    "axs.set_xlabel('Easting [m]')\n",
    "axs.set_ylabel('Northing [m]')\n",
    "im=axs.pcolormesh(EAST,NORTH,BOUG, cmap = plt.get_cmap('rainbow'))\n",
    "CS=axs.contour(EAST,NORTH,BOUG, 15, linewidths = 0.5, colors = 'k')\n",
    "plt.clabel(CS, inline=1, fontsize=10,fmt='%8.3f')\n",
    "\n",
    "# colorbar\n",
    "cbar=fig.colorbar(im,ax=axs)\n",
    "cbar.ax.set_title('mGal')\n",
    "cbar.set_label('Bouguer gravity [mGal]')"
   ]
  },
  {
   "cell_type": "code",
   "execution_count": null,
   "metadata": {},
   "outputs": [],
   "source": [
    "%matplotlib notebook\n",
    "GP_modules.change_fontsize(SMALL_SIZE=10,MEDIUM_SIZE=15,BIGGER_SIZE=20)\n",
    "from matplotlib import cm\n",
    "from mpl_toolkits.mplot3d import Axes3D\n",
    "fig = plt.figure(figsize=(8.0, 6.0))\n",
    "# 3D axes\n",
    "axs=Axes3D(fig)\n",
    "axs.set_xlim3d(eastmin,eastmax)\n",
    "axs.set_ylim3d(northmin,northmax)\n",
    "axs.set_zlim3d((xmax-xmin), 0)\n",
    "axs.set_xlabel('Easting [m]')\n",
    "axs.set_ylabel('Northing [m]')\n",
    "axs.set_zlabel('Elevation [m]')\n",
    "\n",
    "# Bouguer gravity as 2D plot\n",
    "surf=axs.contourf(EAST, NORTH, BOUG, zdir='z',offset=0,alpha=0.5,\n",
    "                  cmap = plt.get_cmap('rainbow'),\n",
    "                  label='Bouguer gravity [mGal]')\n",
    "\n",
    "# sphere as 3D object\n",
    "u = np.linspace(0, 2 * np.pi, 100)\n",
    "v = np.linspace(0, np.pi, 100)\n",
    "xsphere = xp + R * np.outer(np.cos(u), np.sin(v))\n",
    "ysphere = yp + R * np.outer(np.sin(u), np.sin(v))\n",
    "zsphere = zp + R * np.outer(np.ones(np.size(u)), np.cos(v))\n",
    "axs.plot_surface(xsphere, ysphere, zsphere,  rstride=4, cstride=4, color='b', linewidth=0, alpha=0.9)\n",
    "\n",
    "# colorbar\n",
    "cbar=fig.colorbar(surf, shrink=0.5, aspect=7)\n",
    "cbar.ax.set_title('mGal')\n",
    "cbar.set_label('Bouguer gravity')\n",
    "plt.show()"
   ]
  },
  {
   "cell_type": "markdown",
   "metadata": {},
   "source": [
    "... done"
   ]
  }
 ],
 "metadata": {
  "kernelspec": {
   "display_name": "Python 3",
   "language": "python",
   "name": "python3"
  },
  "language_info": {
   "codemirror_mode": {
    "name": "ipython",
    "version": 3
   },
   "file_extension": ".py",
   "mimetype": "text/x-python",
   "name": "python",
   "nbconvert_exporter": "python",
   "pygments_lexer": "ipython3",
   "version": "3.7.3"
  }
 },
 "nbformat": 4,
 "nbformat_minor": 1
}
