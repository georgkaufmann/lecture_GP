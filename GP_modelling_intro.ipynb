{
 "cells": [
  {
   "cell_type": "markdown",
   "metadata": {},
   "source": [
    "<table>\n",
    "<tr><td><img style=\"height: 150px;\" src=\"images/geo_hydro1.jpg\"></td>\n",
    "<td bgcolor=\"#FFFFFF\">\n",
    "    <p style=\"font-size: xx-large; font-weight: 900; line-height: 100%\">AG Dynamics of the Earth</p>\n",
    "    <p style=\"font-size: large; color: rgba(0,0,0,0.5);\">Juypter notebooks</p>\n",
    "    <p style=\"font-size: large; color: rgba(0,0,0,0.5);\">Georg Kaufmann</p>\n",
    "    </td>\n",
    "</tr>\n",
    "</table>"
   ]
  },
  {
   "cell_type": "markdown",
   "metadata": {},
   "source": [
    "# Geophysikalisches Praktikum: Modelling\n",
    "\n",
    "## Simple model for gravity and magnetics\n",
    "----\n",
    "*Georg Kaufmann,\n",
    "Geophysics Section,\n",
    "Institute of Geological Sciences,\n",
    "Freie Universität Berlin,\n",
    "Germany*\n",
    "\n"
   ]
  },
  {
   "cell_type": "markdown",
   "metadata": {},
   "source": [
    "In this notebook, we will learn basic principles of GIS software with the open-source `QGIS` package.\n",
    "<img src=\"\" style=\"height:5cm\">\n",
    "\n",
    "----\n",
    "## Method\n",
    "\n",
    "Geophysical data can be conveniently presented in a **GIS** (Geographical Information System). \n",
    "\n",
    "We use [**QGIS**](http://www.qgis.org) as tool, as QGIS is open-source software and thus freely available for download. \n",
    "The QGIS software is available for Windows, Linux, and Mac OS X.\n",
    "\n",
    "----\n",
    "## Preparation\n",
    "\n",
    "Download and install QGIS on your computer (I am currently using version 3.16, the latest **long-term support**\n",
    "version). \n",
    "\n",
    "Run QGIS and install several additional plugins (Plugins -> Manage and Install Plugins ...):\n",
    "\n",
    "- MMQGIS\n",
    "- QuickMapServices\n",
    "- ...\n",
    "\n",
    "Note: in the current version of QGIS, **openstreetmap** is already implemented!"
   ]
  },
  {
   "cell_type": "markdown",
   "metadata": {},
   "source": [
    "... done"
   ]
  }
 ],
 "metadata": {
  "kernelspec": {
   "display_name": "Python 3",
   "language": "python",
   "name": "python3"
  },
  "language_info": {
   "codemirror_mode": {
    "name": "ipython",
    "version": 3
   },
   "file_extension": ".py",
   "mimetype": "text/x-python",
   "name": "python",
   "nbconvert_exporter": "python",
   "pygments_lexer": "ipython3",
   "version": "3.7.3"
  }
 },
 "nbformat": 4,
 "nbformat_minor": 1
}
